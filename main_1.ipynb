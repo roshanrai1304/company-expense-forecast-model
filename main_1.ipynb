{
 "cells": [
  {
   "attachments": {},
   "cell_type": "markdown",
   "metadata": {},
   "source": [
    "#### Importing the necessary libraries and reading the file"
   ]
  },
  {
   "cell_type": "code",
   "execution_count": 1,
   "metadata": {},
   "outputs": [],
   "source": [
    "import pandas as pd\n",
    "import numpy as np\n",
    "import matplotlib.pyplot as plt\n",
    "import seaborn as sns"
   ]
  },
  {
   "cell_type": "code",
   "execution_count": 2,
   "metadata": {},
   "outputs": [],
   "source": [
    "df = pd.read_csv('expense.csv')"
   ]
  },
  {
   "cell_type": "code",
   "execution_count": 3,
   "metadata": {},
   "outputs": [
    {
     "data": {
      "text/html": [
       "<div>\n",
       "<style scoped>\n",
       "    .dataframe tbody tr th:only-of-type {\n",
       "        vertical-align: middle;\n",
       "    }\n",
       "\n",
       "    .dataframe tbody tr th {\n",
       "        vertical-align: top;\n",
       "    }\n",
       "\n",
       "    .dataframe thead th {\n",
       "        text-align: right;\n",
       "    }\n",
       "</style>\n",
       "<table border=\"1\" class=\"dataframe\">\n",
       "  <thead>\n",
       "    <tr style=\"text-align: right;\">\n",
       "      <th></th>\n",
       "      <th>year</th>\n",
       "      <th>month</th>\n",
       "      <th>debt</th>\n",
       "      <th>rent</th>\n",
       "      <th>employee_salary</th>\n",
       "      <th>marketing</th>\n",
       "    </tr>\n",
       "  </thead>\n",
       "  <tbody>\n",
       "    <tr>\n",
       "      <th>0</th>\n",
       "      <td>2017</td>\n",
       "      <td>Jan</td>\n",
       "      <td>5026</td>\n",
       "      <td>4015</td>\n",
       "      <td>500</td>\n",
       "      <td>2576</td>\n",
       "    </tr>\n",
       "    <tr>\n",
       "      <th>1</th>\n",
       "      <td>2017</td>\n",
       "      <td>Feb</td>\n",
       "      <td>5030</td>\n",
       "      <td>4029</td>\n",
       "      <td>501</td>\n",
       "      <td>2193</td>\n",
       "    </tr>\n",
       "    <tr>\n",
       "      <th>2</th>\n",
       "      <td>2017</td>\n",
       "      <td>Mar</td>\n",
       "      <td>5049</td>\n",
       "      <td>4062</td>\n",
       "      <td>502</td>\n",
       "      <td>2666</td>\n",
       "    </tr>\n",
       "    <tr>\n",
       "      <th>3</th>\n",
       "      <td>2017</td>\n",
       "      <td>Apr</td>\n",
       "      <td>5050</td>\n",
       "      <td>4069</td>\n",
       "      <td>502</td>\n",
       "      <td>2679</td>\n",
       "    </tr>\n",
       "    <tr>\n",
       "      <th>4</th>\n",
       "      <td>2017</td>\n",
       "      <td>May</td>\n",
       "      <td>5066</td>\n",
       "      <td>4084</td>\n",
       "      <td>502</td>\n",
       "      <td>2506</td>\n",
       "    </tr>\n",
       "  </tbody>\n",
       "</table>\n",
       "</div>"
      ],
      "text/plain": [
       "   year month  debt  rent  employee_salary  marketing\n",
       "0  2017   Jan  5026  4015              500       2576\n",
       "1  2017   Feb  5030  4029              501       2193\n",
       "2  2017   Mar  5049  4062              502       2666\n",
       "3  2017   Apr  5050  4069              502       2679\n",
       "4  2017   May  5066  4084              502       2506"
      ]
     },
     "execution_count": 3,
     "metadata": {},
     "output_type": "execute_result"
    }
   ],
   "source": [
    "df.head()"
   ]
  },
  {
   "attachments": {},
   "cell_type": "markdown",
   "metadata": {},
   "source": [
    "The dataset contains the expenses of the company every year and for each month the features of the dataset are\n",
    " \n",
    " 1. year : The year for which the dataset was collected\n",
    " 2. monthe : month for the data is\n",
    " 3. debt : The amount of debt the company paid in that month.\n",
    " 4. rent : The amount of money company spent on rent.\n",
    " 5. employee_count : The No of employees associated with the company on that month"
   ]
  },
  {
   "cell_type": "code",
   "execution_count": 4,
   "metadata": {},
   "outputs": [
    {
     "data": {
      "text/plain": [
       "0     Jan 2017\n",
       "1     Feb 2017\n",
       "2     Mar 2017\n",
       "3     Apr 2017\n",
       "4     May 2017\n",
       "5     Jun 2017\n",
       "6     Jul 2017\n",
       "7     Aug 2017\n",
       "8     Sep 2017\n",
       "9     Oct 2017\n",
       "10    Nov 2017\n",
       "11    Dec 2017\n",
       "12    Jan 2018\n",
       "13    Feb 2018\n",
       "14    Mar 2018\n",
       "15    Apr 2018\n",
       "16    May 2018\n",
       "17    Jun 2018\n",
       "18    Jul 2018\n",
       "19    Aug 2018\n",
       "20    Sep 2018\n",
       "21    Oct 2018\n",
       "22    Nov 2018\n",
       "23    Dec 2018\n",
       "24    Jan 2019\n",
       "25    Feb 2019\n",
       "26    Mar 2019\n",
       "27    Apr 2019\n",
       "28    May 2019\n",
       "29    Jun 2019\n",
       "30    Jul 2019\n",
       "31    Aug 2019\n",
       "32    Sep 2019\n",
       "33    Oct 2019\n",
       "34    Nov 2019\n",
       "35    Dec 2019\n",
       "36    Jan 2020\n",
       "37    Feb 2020\n",
       "38    Mar 2020\n",
       "39    Apr 2020\n",
       "40    May 2020\n",
       "41    Jun 2020\n",
       "42    Jul 2020\n",
       "43    Aug 2020\n",
       "44    Sep 2020\n",
       "45    Oct 2020\n",
       "46    Nov 2020\n",
       "47    Dec 2020\n",
       "48    Jan 2021\n",
       "49    Feb 2021\n",
       "50    Mar 2021\n",
       "51    Apr 2021\n",
       "52    May 2021\n",
       "53    Jun 2021\n",
       "54    Jul 2021\n",
       "55    Aug 2021\n",
       "56    Sep 2021\n",
       "57    Oct 2021\n",
       "58    Nov 2021\n",
       "59    Dec 2021\n",
       "Name: month_year, dtype: object"
      ]
     },
     "execution_count": 4,
     "metadata": {},
     "output_type": "execute_result"
    }
   ],
   "source": [
    "df['month_year'] = df['month'] + \" \" + df['year'].astype(str)\n",
    "df['month_year']"
   ]
  },
  {
   "cell_type": "code",
   "execution_count": 5,
   "metadata": {},
   "outputs": [
    {
     "data": {
      "text/html": [
       "<div>\n",
       "<style scoped>\n",
       "    .dataframe tbody tr th:only-of-type {\n",
       "        vertical-align: middle;\n",
       "    }\n",
       "\n",
       "    .dataframe tbody tr th {\n",
       "        vertical-align: top;\n",
       "    }\n",
       "\n",
       "    .dataframe thead th {\n",
       "        text-align: right;\n",
       "    }\n",
       "</style>\n",
       "<table border=\"1\" class=\"dataframe\">\n",
       "  <thead>\n",
       "    <tr style=\"text-align: right;\">\n",
       "      <th></th>\n",
       "      <th>year</th>\n",
       "      <th>month</th>\n",
       "      <th>debt</th>\n",
       "      <th>rent</th>\n",
       "      <th>employee_salary</th>\n",
       "      <th>marketing</th>\n",
       "      <th>month_year</th>\n",
       "    </tr>\n",
       "  </thead>\n",
       "  <tbody>\n",
       "    <tr>\n",
       "      <th>0</th>\n",
       "      <td>2017</td>\n",
       "      <td>Jan</td>\n",
       "      <td>5026</td>\n",
       "      <td>4015</td>\n",
       "      <td>500</td>\n",
       "      <td>2576</td>\n",
       "      <td>Jan 2017</td>\n",
       "    </tr>\n",
       "    <tr>\n",
       "      <th>1</th>\n",
       "      <td>2017</td>\n",
       "      <td>Feb</td>\n",
       "      <td>5030</td>\n",
       "      <td>4029</td>\n",
       "      <td>501</td>\n",
       "      <td>2193</td>\n",
       "      <td>Feb 2017</td>\n",
       "    </tr>\n",
       "    <tr>\n",
       "      <th>2</th>\n",
       "      <td>2017</td>\n",
       "      <td>Mar</td>\n",
       "      <td>5049</td>\n",
       "      <td>4062</td>\n",
       "      <td>502</td>\n",
       "      <td>2666</td>\n",
       "      <td>Mar 2017</td>\n",
       "    </tr>\n",
       "    <tr>\n",
       "      <th>3</th>\n",
       "      <td>2017</td>\n",
       "      <td>Apr</td>\n",
       "      <td>5050</td>\n",
       "      <td>4069</td>\n",
       "      <td>502</td>\n",
       "      <td>2679</td>\n",
       "      <td>Apr 2017</td>\n",
       "    </tr>\n",
       "    <tr>\n",
       "      <th>4</th>\n",
       "      <td>2017</td>\n",
       "      <td>May</td>\n",
       "      <td>5066</td>\n",
       "      <td>4084</td>\n",
       "      <td>502</td>\n",
       "      <td>2506</td>\n",
       "      <td>May 2017</td>\n",
       "    </tr>\n",
       "  </tbody>\n",
       "</table>\n",
       "</div>"
      ],
      "text/plain": [
       "   year month  debt  rent  employee_salary  marketing month_year\n",
       "0  2017   Jan  5026  4015              500       2576   Jan 2017\n",
       "1  2017   Feb  5030  4029              501       2193   Feb 2017\n",
       "2  2017   Mar  5049  4062              502       2666   Mar 2017\n",
       "3  2017   Apr  5050  4069              502       2679   Apr 2017\n",
       "4  2017   May  5066  4084              502       2506   May 2017"
      ]
     },
     "execution_count": 5,
     "metadata": {},
     "output_type": "execute_result"
    }
   ],
   "source": [
    "df.head()"
   ]
  },
  {
   "cell_type": "code",
   "execution_count": 6,
   "metadata": {},
   "outputs": [
    {
     "data": {
      "text/plain": [
       "year               0\n",
       "month              0\n",
       "debt               0\n",
       "rent               0\n",
       "employee_salary    0\n",
       "marketing          0\n",
       "month_year         0\n",
       "dtype: int64"
      ]
     },
     "execution_count": 6,
     "metadata": {},
     "output_type": "execute_result"
    }
   ],
   "source": [
    "df.isnull().sum()"
   ]
  },
  {
   "attachments": {},
   "cell_type": "markdown",
   "metadata": {},
   "source": [
    "### EDA on the dataset"
   ]
  },
  {
   "cell_type": "code",
   "execution_count": 7,
   "metadata": {},
   "outputs": [
    {
     "data": {
      "text/plain": [
       "Index(['debt', 'rent', 'employee_salary', 'marketing', 'month_year'], dtype='object')"
      ]
     },
     "execution_count": 7,
     "metadata": {},
     "output_type": "execute_result"
    }
   ],
   "source": [
    "### name of all the features\n",
    "features = df.columns[2:]\n",
    "features"
   ]
  },
  {
   "cell_type": "code",
   "execution_count": 8,
   "metadata": {},
   "outputs": [
    {
     "data": {
      "image/png": "[encoded data removed]",
      "text/plain": [
       "<Figure size 1080x720 with 4 Axes>"
      ]
     },
     "metadata": {},
     "output_type": "display_data"
    }
   ],
   "source": [
    "### Plot of expenses of the company year by year\n",
    "\n",
    "f, ax = plt.subplots(2, 2, figsize=(15, 10))\n",
    "k=0\n",
    "\n",
    "for i in range(2):\n",
    "    for j in range(2):\n",
    "        if k < 4 :\n",
    "            sns.barplot(x='year', y=features[k], data=df, ax=ax[i][j], palette='Set2')\n",
    "            k+=1\n",
    "\n",
    "plt.show()"
   ]
  },
  {
   "attachments": {},
   "cell_type": "markdown",
   "metadata": {},
   "source": [
    "### Insights from the above plot\n",
    " \n",
    " 1. plot between year and debt which show's the debt of company is growing year by year.\n",
    " 2. plot between year and rent shows that it is increasing year by year.\n",
    " 3. plot between year and employee_count shows that employees are increasing day by day.\n",
    " 4. A plot between year and marketing which show the marketing of the company reached its peak in the year 2018 and it is decreasing from their. "
   ]
  },
  {
   "cell_type": "code",
   "execution_count": 9,
   "metadata": {},
   "outputs": [
    {
     "data": {
      "image/png": "[encoded data removed]",
      "text/plain": [
       "<Figure size 1440x1080 with 4 Axes>"
      ]
     },
     "metadata": {},
     "output_type": "display_data"
    }
   ],
   "source": [
    "#### Plot of the expenses of the company in every month\n",
    "\n",
    "f, ax = plt.subplots(2, 2, figsize=(20, 15))\n",
    "k=0\n",
    "\n",
    "for i in range(2):\n",
    "    for j in range(2):\n",
    "        if k < 4 :\n",
    "            sns.barplot(x='month', y=features[k], data=df, hue='year', ax=ax[i][j], palette='Set2')\n",
    "            k+=1\n",
    "\n",
    "plt.show()"
   ]
  },
  {
   "attachments": {},
   "cell_type": "markdown",
   "metadata": {},
   "source": [
    "#### Insights from the above plot \n",
    "\n",
    "1. Marketing in the month of december is highest that means company spends more in marketing in december"
   ]
  },
  {
   "cell_type": "code",
   "execution_count": 10,
   "metadata": {},
   "outputs": [
    {
     "data": {
      "text/html": [
       "<div>\n",
       "<style scoped>\n",
       "    .dataframe tbody tr th:only-of-type {\n",
       "        vertical-align: middle;\n",
       "    }\n",
       "\n",
       "    .dataframe tbody tr th {\n",
       "        vertical-align: top;\n",
       "    }\n",
       "\n",
       "    .dataframe thead th {\n",
       "        text-align: right;\n",
       "    }\n",
       "</style>\n",
       "<table border=\"1\" class=\"dataframe\">\n",
       "  <thead>\n",
       "    <tr style=\"text-align: right;\">\n",
       "      <th></th>\n",
       "      <th>debt</th>\n",
       "      <th>rent</th>\n",
       "      <th>employee_salary</th>\n",
       "      <th>marketing</th>\n",
       "      <th>month_year</th>\n",
       "    </tr>\n",
       "  </thead>\n",
       "  <tbody>\n",
       "    <tr>\n",
       "      <th>0</th>\n",
       "      <td>5026</td>\n",
       "      <td>4015</td>\n",
       "      <td>500</td>\n",
       "      <td>2576</td>\n",
       "      <td>Jan 2017</td>\n",
       "    </tr>\n",
       "    <tr>\n",
       "      <th>1</th>\n",
       "      <td>5030</td>\n",
       "      <td>4029</td>\n",
       "      <td>501</td>\n",
       "      <td>2193</td>\n",
       "      <td>Feb 2017</td>\n",
       "    </tr>\n",
       "    <tr>\n",
       "      <th>2</th>\n",
       "      <td>5049</td>\n",
       "      <td>4062</td>\n",
       "      <td>502</td>\n",
       "      <td>2666</td>\n",
       "      <td>Mar 2017</td>\n",
       "    </tr>\n",
       "    <tr>\n",
       "      <th>3</th>\n",
       "      <td>5050</td>\n",
       "      <td>4069</td>\n",
       "      <td>502</td>\n",
       "      <td>2679</td>\n",
       "      <td>Apr 2017</td>\n",
       "    </tr>\n",
       "    <tr>\n",
       "      <th>4</th>\n",
       "      <td>5066</td>\n",
       "      <td>4084</td>\n",
       "      <td>502</td>\n",
       "      <td>2506</td>\n",
       "      <td>May 2017</td>\n",
       "    </tr>\n",
       "    <tr>\n",
       "      <th>5</th>\n",
       "      <td>5112</td>\n",
       "      <td>4089</td>\n",
       "      <td>502</td>\n",
       "      <td>3486</td>\n",
       "      <td>Jun 2017</td>\n",
       "    </tr>\n",
       "    <tr>\n",
       "      <th>6</th>\n",
       "      <td>5138</td>\n",
       "      <td>4102</td>\n",
       "      <td>502</td>\n",
       "      <td>3875</td>\n",
       "      <td>Jul 2017</td>\n",
       "    </tr>\n",
       "    <tr>\n",
       "      <th>7</th>\n",
       "      <td>5169</td>\n",
       "      <td>4120</td>\n",
       "      <td>502</td>\n",
       "      <td>3523</td>\n",
       "      <td>Aug 2017</td>\n",
       "    </tr>\n",
       "    <tr>\n",
       "      <th>8</th>\n",
       "      <td>5249</td>\n",
       "      <td>4133</td>\n",
       "      <td>502</td>\n",
       "      <td>2208</td>\n",
       "      <td>Sep 2017</td>\n",
       "    </tr>\n",
       "    <tr>\n",
       "      <th>9</th>\n",
       "      <td>5253</td>\n",
       "      <td>4134</td>\n",
       "      <td>502</td>\n",
       "      <td>3864</td>\n",
       "      <td>Oct 2017</td>\n",
       "    </tr>\n",
       "    <tr>\n",
       "      <th>10</th>\n",
       "      <td>5261</td>\n",
       "      <td>4155</td>\n",
       "      <td>502</td>\n",
       "      <td>3324</td>\n",
       "      <td>Nov 2017</td>\n",
       "    </tr>\n",
       "    <tr>\n",
       "      <th>11</th>\n",
       "      <td>5411</td>\n",
       "      <td>4168</td>\n",
       "      <td>502</td>\n",
       "      <td>4000</td>\n",
       "      <td>Dec 2017</td>\n",
       "    </tr>\n",
       "    <tr>\n",
       "      <th>12</th>\n",
       "      <td>5420</td>\n",
       "      <td>4192</td>\n",
       "      <td>509</td>\n",
       "      <td>3087</td>\n",
       "      <td>Jan 2018</td>\n",
       "    </tr>\n",
       "    <tr>\n",
       "      <th>13</th>\n",
       "      <td>5461</td>\n",
       "      <td>4211</td>\n",
       "      <td>509</td>\n",
       "      <td>3998</td>\n",
       "      <td>Feb 2018</td>\n",
       "    </tr>\n",
       "    <tr>\n",
       "      <th>14</th>\n",
       "      <td>5475</td>\n",
       "      <td>4239</td>\n",
       "      <td>509</td>\n",
       "      <td>3140</td>\n",
       "      <td>Mar 2018</td>\n",
       "    </tr>\n",
       "    <tr>\n",
       "      <th>15</th>\n",
       "      <td>5496</td>\n",
       "      <td>4240</td>\n",
       "      <td>509</td>\n",
       "      <td>3646</td>\n",
       "      <td>Apr 2018</td>\n",
       "    </tr>\n",
       "    <tr>\n",
       "      <th>16</th>\n",
       "      <td>5529</td>\n",
       "      <td>4277</td>\n",
       "      <td>509</td>\n",
       "      <td>3604</td>\n",
       "      <td>May 2018</td>\n",
       "    </tr>\n",
       "    <tr>\n",
       "      <th>17</th>\n",
       "      <td>5552</td>\n",
       "      <td>4284</td>\n",
       "      <td>509</td>\n",
       "      <td>2618</td>\n",
       "      <td>Jun 2018</td>\n",
       "    </tr>\n",
       "    <tr>\n",
       "      <th>18</th>\n",
       "      <td>5555</td>\n",
       "      <td>4288</td>\n",
       "      <td>509</td>\n",
       "      <td>3634</td>\n",
       "      <td>Jul 2018</td>\n",
       "    </tr>\n",
       "    <tr>\n",
       "      <th>19</th>\n",
       "      <td>5593</td>\n",
       "      <td>4324</td>\n",
       "      <td>509</td>\n",
       "      <td>3284</td>\n",
       "      <td>Aug 2018</td>\n",
       "    </tr>\n",
       "    <tr>\n",
       "      <th>20</th>\n",
       "      <td>5616</td>\n",
       "      <td>4325</td>\n",
       "      <td>509</td>\n",
       "      <td>3520</td>\n",
       "      <td>Sep 2018</td>\n",
       "    </tr>\n",
       "    <tr>\n",
       "      <th>21</th>\n",
       "      <td>5671</td>\n",
       "      <td>4331</td>\n",
       "      <td>509</td>\n",
       "      <td>2229</td>\n",
       "      <td>Oct 2018</td>\n",
       "    </tr>\n",
       "    <tr>\n",
       "      <th>22</th>\n",
       "      <td>5676</td>\n",
       "      <td>4372</td>\n",
       "      <td>509</td>\n",
       "      <td>2602</td>\n",
       "      <td>Nov 2018</td>\n",
       "    </tr>\n",
       "    <tr>\n",
       "      <th>23</th>\n",
       "      <td>5699</td>\n",
       "      <td>4383</td>\n",
       "      <td>509</td>\n",
       "      <td>4300</td>\n",
       "      <td>Dec 2018</td>\n",
       "    </tr>\n",
       "    <tr>\n",
       "      <th>24</th>\n",
       "      <td>5739</td>\n",
       "      <td>4412</td>\n",
       "      <td>529</td>\n",
       "      <td>2481</td>\n",
       "      <td>Jan 2019</td>\n",
       "    </tr>\n",
       "    <tr>\n",
       "      <th>25</th>\n",
       "      <td>5811</td>\n",
       "      <td>4414</td>\n",
       "      <td>521</td>\n",
       "      <td>3583</td>\n",
       "      <td>Feb 2019</td>\n",
       "    </tr>\n",
       "    <tr>\n",
       "      <th>26</th>\n",
       "      <td>5828</td>\n",
       "      <td>4427</td>\n",
       "      <td>522</td>\n",
       "      <td>3222</td>\n",
       "      <td>Mar 2019</td>\n",
       "    </tr>\n",
       "    <tr>\n",
       "      <th>27</th>\n",
       "      <td>5839</td>\n",
       "      <td>4444</td>\n",
       "      <td>523</td>\n",
       "      <td>3301</td>\n",
       "      <td>Apr 2019</td>\n",
       "    </tr>\n",
       "    <tr>\n",
       "      <th>28</th>\n",
       "      <td>5917</td>\n",
       "      <td>4490</td>\n",
       "      <td>524</td>\n",
       "      <td>2814</td>\n",
       "      <td>May 2019</td>\n",
       "    </tr>\n",
       "    <tr>\n",
       "      <th>29</th>\n",
       "      <td>5932</td>\n",
       "      <td>4513</td>\n",
       "      <td>524</td>\n",
       "      <td>3887</td>\n",
       "      <td>Jun 2019</td>\n",
       "    </tr>\n",
       "    <tr>\n",
       "      <th>30</th>\n",
       "      <td>5936</td>\n",
       "      <td>4519</td>\n",
       "      <td>524</td>\n",
       "      <td>3319</td>\n",
       "      <td>Jul 2019</td>\n",
       "    </tr>\n",
       "    <tr>\n",
       "      <th>31</th>\n",
       "      <td>5992</td>\n",
       "      <td>4541</td>\n",
       "      <td>524</td>\n",
       "      <td>3337</td>\n",
       "      <td>Aug 2019</td>\n",
       "    </tr>\n",
       "    <tr>\n",
       "      <th>32</th>\n",
       "      <td>6097</td>\n",
       "      <td>4560</td>\n",
       "      <td>524</td>\n",
       "      <td>3311</td>\n",
       "      <td>Sep 2019</td>\n",
       "    </tr>\n",
       "    <tr>\n",
       "      <th>33</th>\n",
       "      <td>6107</td>\n",
       "      <td>4576</td>\n",
       "      <td>524</td>\n",
       "      <td>3476</td>\n",
       "      <td>Oct 2019</td>\n",
       "    </tr>\n",
       "    <tr>\n",
       "      <th>34</th>\n",
       "      <td>6115</td>\n",
       "      <td>4606</td>\n",
       "      <td>524</td>\n",
       "      <td>2294</td>\n",
       "      <td>Nov 2019</td>\n",
       "    </tr>\n",
       "    <tr>\n",
       "      <th>35</th>\n",
       "      <td>6167</td>\n",
       "      <td>4617</td>\n",
       "      <td>524</td>\n",
       "      <td>4120</td>\n",
       "      <td>Dec 2019</td>\n",
       "    </tr>\n",
       "    <tr>\n",
       "      <th>36</th>\n",
       "      <td>6180</td>\n",
       "      <td>4645</td>\n",
       "      <td>538</td>\n",
       "      <td>3276</td>\n",
       "      <td>Jan 2020</td>\n",
       "    </tr>\n",
       "    <tr>\n",
       "      <th>37</th>\n",
       "      <td>6189</td>\n",
       "      <td>4647</td>\n",
       "      <td>540</td>\n",
       "      <td>3216</td>\n",
       "      <td>Feb 2020</td>\n",
       "    </tr>\n",
       "    <tr>\n",
       "      <th>38</th>\n",
       "      <td>6189</td>\n",
       "      <td>4647</td>\n",
       "      <td>540</td>\n",
       "      <td>2936</td>\n",
       "      <td>Mar 2020</td>\n",
       "    </tr>\n",
       "    <tr>\n",
       "      <th>39</th>\n",
       "      <td>6191</td>\n",
       "      <td>4656</td>\n",
       "      <td>541</td>\n",
       "      <td>3011</td>\n",
       "      <td>Apr 2020</td>\n",
       "    </tr>\n",
       "    <tr>\n",
       "      <th>40</th>\n",
       "      <td>6241</td>\n",
       "      <td>4656</td>\n",
       "      <td>542</td>\n",
       "      <td>3519</td>\n",
       "      <td>May 2020</td>\n",
       "    </tr>\n",
       "    <tr>\n",
       "      <th>41</th>\n",
       "      <td>6316</td>\n",
       "      <td>4690</td>\n",
       "      <td>544</td>\n",
       "      <td>3526</td>\n",
       "      <td>Jun 2020</td>\n",
       "    </tr>\n",
       "    <tr>\n",
       "      <th>42</th>\n",
       "      <td>6328</td>\n",
       "      <td>4712</td>\n",
       "      <td>545</td>\n",
       "      <td>2205</td>\n",
       "      <td>Jul 2020</td>\n",
       "    </tr>\n",
       "    <tr>\n",
       "      <th>43</th>\n",
       "      <td>6336</td>\n",
       "      <td>4715</td>\n",
       "      <td>547</td>\n",
       "      <td>3404</td>\n",
       "      <td>Aug 2020</td>\n",
       "    </tr>\n",
       "    <tr>\n",
       "      <th>44</th>\n",
       "      <td>6366</td>\n",
       "      <td>4717</td>\n",
       "      <td>547</td>\n",
       "      <td>2850</td>\n",
       "      <td>Sep 2020</td>\n",
       "    </tr>\n",
       "    <tr>\n",
       "      <th>45</th>\n",
       "      <td>6474</td>\n",
       "      <td>4742</td>\n",
       "      <td>548</td>\n",
       "      <td>3491</td>\n",
       "      <td>Oct 2020</td>\n",
       "    </tr>\n",
       "    <tr>\n",
       "      <th>46</th>\n",
       "      <td>6561</td>\n",
       "      <td>4766</td>\n",
       "      <td>549</td>\n",
       "      <td>3215</td>\n",
       "      <td>Nov 2020</td>\n",
       "    </tr>\n",
       "    <tr>\n",
       "      <th>47</th>\n",
       "      <td>6561</td>\n",
       "      <td>4780</td>\n",
       "      <td>550</td>\n",
       "      <td>4500</td>\n",
       "      <td>Dec 2020</td>\n",
       "    </tr>\n",
       "    <tr>\n",
       "      <th>48</th>\n",
       "      <td>6576</td>\n",
       "      <td>4780</td>\n",
       "      <td>553</td>\n",
       "      <td>3927</td>\n",
       "      <td>Jan 2021</td>\n",
       "    </tr>\n",
       "    <tr>\n",
       "      <th>49</th>\n",
       "      <td>6587</td>\n",
       "      <td>4815</td>\n",
       "      <td>553</td>\n",
       "      <td>2459</td>\n",
       "      <td>Feb 2021</td>\n",
       "    </tr>\n",
       "    <tr>\n",
       "      <th>50</th>\n",
       "      <td>6598</td>\n",
       "      <td>4831</td>\n",
       "      <td>553</td>\n",
       "      <td>3582</td>\n",
       "      <td>Mar 2021</td>\n",
       "    </tr>\n",
       "    <tr>\n",
       "      <th>51</th>\n",
       "      <td>6606</td>\n",
       "      <td>4845</td>\n",
       "      <td>553</td>\n",
       "      <td>3472</td>\n",
       "      <td>Apr 2021</td>\n",
       "    </tr>\n",
       "    <tr>\n",
       "      <th>52</th>\n",
       "      <td>6613</td>\n",
       "      <td>4891</td>\n",
       "      <td>553</td>\n",
       "      <td>2744</td>\n",
       "      <td>May 2021</td>\n",
       "    </tr>\n",
       "    <tr>\n",
       "      <th>53</th>\n",
       "      <td>6618</td>\n",
       "      <td>4901</td>\n",
       "      <td>553</td>\n",
       "      <td>3440</td>\n",
       "      <td>Jun 2021</td>\n",
       "    </tr>\n",
       "    <tr>\n",
       "      <th>54</th>\n",
       "      <td>6629</td>\n",
       "      <td>4901</td>\n",
       "      <td>556</td>\n",
       "      <td>2037</td>\n",
       "      <td>Jul 2021</td>\n",
       "    </tr>\n",
       "    <tr>\n",
       "      <th>55</th>\n",
       "      <td>6654</td>\n",
       "      <td>4922</td>\n",
       "      <td>556</td>\n",
       "      <td>3074</td>\n",
       "      <td>Aug 2021</td>\n",
       "    </tr>\n",
       "    <tr>\n",
       "      <th>56</th>\n",
       "      <td>6732</td>\n",
       "      <td>4960</td>\n",
       "      <td>556</td>\n",
       "      <td>3286</td>\n",
       "      <td>Sep 2021</td>\n",
       "    </tr>\n",
       "    <tr>\n",
       "      <th>57</th>\n",
       "      <td>6739</td>\n",
       "      <td>4971</td>\n",
       "      <td>557</td>\n",
       "      <td>3086</td>\n",
       "      <td>Oct 2021</td>\n",
       "    </tr>\n",
       "    <tr>\n",
       "      <th>58</th>\n",
       "      <td>6755</td>\n",
       "      <td>4975</td>\n",
       "      <td>559</td>\n",
       "      <td>2920</td>\n",
       "      <td>Nov 2021</td>\n",
       "    </tr>\n",
       "    <tr>\n",
       "      <th>59</th>\n",
       "      <td>6842</td>\n",
       "      <td>5000</td>\n",
       "      <td>560</td>\n",
       "      <td>4700</td>\n",
       "      <td>Dec 2021</td>\n",
       "    </tr>\n",
       "  </tbody>\n",
       "</table>\n",
       "</div>"
      ],
      "text/plain": [
       "    debt  rent  employee_salary  marketing month_year\n",
       "0   5026  4015              500       2576   Jan 2017\n",
       "1   5030  4029              501       2193   Feb 2017\n",
       "2   5049  4062              502       2666   Mar 2017\n",
       "3   5050  4069              502       2679   Apr 2017\n",
       "4   5066  4084              502       2506   May 2017\n",
       "5   5112  4089              502       3486   Jun 2017\n",
       "6   5138  4102              502       3875   Jul 2017\n",
       "7   5169  4120              502       3523   Aug 2017\n",
       "8   5249  4133              502       2208   Sep 2017\n",
       "9   5253  4134              502       3864   Oct 2017\n",
       "10  5261  4155              502       3324   Nov 2017\n",
       "11  5411  4168              502       4000   Dec 2017\n",
       "12  5420  4192              509       3087   Jan 2018\n",
       "13  5461  4211              509       3998   Feb 2018\n",
       "14  5475  4239              509       3140   Mar 2018\n",
       "15  5496  4240              509       3646   Apr 2018\n",
       "16  5529  4277              509       3604   May 2018\n",
       "17  5552  4284              509       2618   Jun 2018\n",
       "18  5555  4288              509       3634   Jul 2018\n",
       "19  5593  4324              509       3284   Aug 2018\n",
       "20  5616  4325              509       3520   Sep 2018\n",
       "21  5671  4331              509       2229   Oct 2018\n",
       "22  5676  4372              509       2602   Nov 2018\n",
       "23  5699  4383              509       4300   Dec 2018\n",
       "24  5739  4412              529       2481   Jan 2019\n",
       "25  5811  4414              521       3583   Feb 2019\n",
       "26  5828  4427              522       3222   Mar 2019\n",
       "27  5839  4444              523       3301   Apr 2019\n",
       "28  5917  4490              524       2814   May 2019\n",
       "29  5932  4513              524       3887   Jun 2019\n",
       "30  5936  4519              524       3319   Jul 2019\n",
       "31  5992  4541              524       3337   Aug 2019\n",
       "32  6097  4560              524       3311   Sep 2019\n",
       "33  6107  4576              524       3476   Oct 2019\n",
       "34  6115  4606              524       2294   Nov 2019\n",
       "35  6167  4617              524       4120   Dec 2019\n",
       "36  6180  4645              538       3276   Jan 2020\n",
       "37  6189  4647              540       3216   Feb 2020\n",
       "38  6189  4647              540       2936   Mar 2020\n",
       "39  6191  4656              541       3011   Apr 2020\n",
       "40  6241  4656              542       3519   May 2020\n",
       "41  6316  4690              544       3526   Jun 2020\n",
       "42  6328  4712              545       2205   Jul 2020\n",
       "43  6336  4715              547       3404   Aug 2020\n",
       "44  6366  4717              547       2850   Sep 2020\n",
       "45  6474  4742              548       3491   Oct 2020\n",
       "46  6561  4766              549       3215   Nov 2020\n",
       "47  6561  4780              550       4500   Dec 2020\n",
       "48  6576  4780              553       3927   Jan 2021\n",
       "49  6587  4815              553       2459   Feb 2021\n",
       "50  6598  4831              553       3582   Mar 2021\n",
       "51  6606  4845              553       3472   Apr 2021\n",
       "52  6613  4891              553       2744   May 2021\n",
       "53  6618  4901              553       3440   Jun 2021\n",
       "54  6629  4901              556       2037   Jul 2021\n",
       "55  6654  4922              556       3074   Aug 2021\n",
       "56  6732  4960              556       3286   Sep 2021\n",
       "57  6739  4971              557       3086   Oct 2021\n",
       "58  6755  4975              559       2920   Nov 2021\n",
       "59  6842  5000              560       4700   Dec 2021"
      ]
     },
     "execution_count": 10,
     "metadata": {},
     "output_type": "execute_result"
    }
   ],
   "source": [
    "#### Separate the data that we want for training the model\n",
    "\n",
    "data = df[df.columns[2:]]\n",
    "data"
   ]
  },
  {
   "attachments": {},
   "cell_type": "markdown",
   "metadata": {},
   "source": [
    "#### Split the dataset into train and test"
   ]
  },
  {
   "cell_type": "code",
   "execution_count": 11,
   "metadata": {},
   "outputs": [],
   "source": [
    "df_train = data[:48]\n",
    "df_test = data[49:]"
   ]
  },
  {
   "attachments": {},
   "cell_type": "markdown",
   "metadata": {},
   "source": [
    "#### Sacling of the data"
   ]
  },
  {
   "cell_type": "code",
   "execution_count": 12,
   "metadata": {},
   "outputs": [],
   "source": [
    "from sklearn.preprocessing import MinMaxScaler\n",
    "\n",
    "exp_list = [i for i in df_train.columns if i != 'month_year']\n",
    "scaler = MinMaxScaler()\n",
    "scaled_train = scaler.fit_transform(df_train[exp_list])\n",
    "scaled_test = scaler.fit_transform(df_test[exp_list])"
   ]
  },
  {
   "cell_type": "code",
   "execution_count": 13,
   "metadata": {},
   "outputs": [
    {
     "data": {
      "text/plain": [
       "array([[0.        , 0.        , 0.        , 0.16601647],\n",
       "       [0.00260586, 0.01830065, 0.02      , 0.        ],\n",
       "       [0.01498371, 0.06143791, 0.04      , 0.20502818],\n",
       "       [0.01563518, 0.07058824, 0.04      , 0.2106632 ],\n",
       "       [0.02605863, 0.09019608, 0.04      , 0.13567404],\n",
       "       [0.05602606, 0.09673203, 0.04      , 0.56046814],\n",
       "       [0.07296417, 0.11372549, 0.04      , 0.72908539],\n",
       "       [0.09315961, 0.1372549 , 0.04      , 0.57650629],\n",
       "       [0.14527687, 0.15424837, 0.04      , 0.00650195],\n",
       "       [0.14788274, 0.15555556, 0.04      , 0.7243173 ],\n",
       "       [0.15309446, 0.18300654, 0.04      , 0.49024707],\n",
       "       [0.25081433, 0.2       , 0.04      , 0.78326831],\n",
       "       [0.25667752, 0.23137255, 0.18      , 0.38751625],\n",
       "       [0.28338762, 0.25620915, 0.18      , 0.78240139],\n",
       "       [0.29250814, 0.29281046, 0.18      , 0.41048981],\n",
       "       [0.30618893, 0.29411765, 0.18      , 0.62982228],\n",
       "       [0.3276873 , 0.34248366, 0.18      , 0.61161682],\n",
       "       [0.34267101, 0.35163399, 0.18      , 0.18422193],\n",
       "       [0.34462541, 0.35686275, 0.18      , 0.62462072],\n",
       "       [0.36938111, 0.40392157, 0.18      , 0.47290854],\n",
       "       [0.38436482, 0.40522876, 0.18      , 0.5752059 ],\n",
       "       [0.42019544, 0.4130719 , 0.18      , 0.01560468],\n",
       "       [0.42345277, 0.46666667, 0.18      , 0.17728652],\n",
       "       [0.43843648, 0.48104575, 0.18      , 0.91330733],\n",
       "       [0.46449511, 0.51895425, 0.58      , 0.12483745],\n",
       "       [0.51140065, 0.52156863, 0.42      , 0.60251409],\n",
       "       [0.52247557, 0.53856209, 0.44      , 0.44603381],\n",
       "       [0.52964169, 0.56078431, 0.46      , 0.48027742],\n",
       "       [0.58045603, 0.62091503, 0.48      , 0.26918075],\n",
       "       [0.59022801, 0.65098039, 0.48      , 0.73428695],\n",
       "       [0.59283388, 0.65882353, 0.48      , 0.48807976],\n",
       "       [0.62931596, 0.6875817 , 0.48      , 0.4958821 ],\n",
       "       [0.69771987, 0.7124183 , 0.48      , 0.48461205],\n",
       "       [0.70423453, 0.73333333, 0.48      , 0.55613351],\n",
       "       [0.70944625, 0.77254902, 0.48      , 0.0437798 ],\n",
       "       [0.74332248, 0.7869281 , 0.48      , 0.83528392],\n",
       "       [0.75179153, 0.82352941, 0.76      , 0.46944083],\n",
       "       [0.75765472, 0.82614379, 0.8       , 0.44343303],\n",
       "       [0.75765472, 0.82614379, 0.8       , 0.32206329],\n",
       "       [0.75895765, 0.8379085 , 0.82      , 0.35457304],\n",
       "       [0.79153094, 0.8379085 , 0.84      , 0.57477243],\n",
       "       [0.84039088, 0.88235294, 0.88      , 0.57780668],\n",
       "       [0.84820847, 0.91111111, 0.9       , 0.00520156],\n",
       "       [0.8534202 , 0.91503268, 0.94      , 0.52492414],\n",
       "       [0.87296417, 0.91764706, 0.94      , 0.28478544],\n",
       "       [0.94332248, 0.9503268 , 0.96      , 0.56263546],\n",
       "       [1.        , 0.98169935, 0.98      , 0.44299957],\n",
       "       [1.        , 1.        , 1.        , 1.        ]])"
      ]
     },
     "execution_count": 13,
     "metadata": {},
     "output_type": "execute_result"
    }
   ],
   "source": [
    "scaled_train"
   ]
  },
  {
   "cell_type": "code",
   "execution_count": 14,
   "metadata": {},
   "outputs": [],
   "source": [
    "### It is a function to prepare the dataset which is to look back to 6 months and predict future expenses\n",
    "\n",
    "def split_sequence(sequence, look_back, forecast_horizon):\n",
    "    \n",
    "    X, y = list(), list()\n",
    "    for i in range(len(sequence)) :\n",
    "        lag_end = i + look_back\n",
    "        forecast_end = lag_end + forecast_horizon\n",
    "        if forecast_end > len(sequence) :\n",
    "            break\n",
    "        seq_x, seq_y = sequence[i:lag_end], sequence[lag_end:forecast_end]\n",
    "        X.append(seq_x)\n",
    "        y.append(seq_y)\n",
    "    return np.array(X), np.array(y)"
   ]
  },
  {
   "cell_type": "code",
   "execution_count": 15,
   "metadata": {},
   "outputs": [
    {
     "name": "stdout",
     "output_type": "stream",
     "text": [
      "(41, 6, 4)\n",
      "(41, 2, 4)\n",
      "(4, 6, 4)\n",
      "(4, 2, 4)\n"
     ]
    }
   ],
   "source": [
    "### We are considering last 6 months and perform forecasting for next 2\n",
    "\n",
    "LOOK_BACK = 6\n",
    "FORECAST_RANGE = 2\n",
    "n_features = len(exp_list)\n",
    "\n",
    "X_train, y_train = split_sequence(scaled_train, look_back=LOOK_BACK, forecast_horizon=FORECAST_RANGE)\n",
    "X_test, y_test = split_sequence(scaled_test, look_back=LOOK_BACK, forecast_horizon=FORECAST_RANGE)\n",
    "\n",
    "print(X_train.shape)\n",
    "print(y_train.shape)\n",
    "print(X_test.shape)\n",
    "print(y_test.shape)"
   ]
  },
  {
   "cell_type": "code",
   "execution_count": 16,
   "metadata": {},
   "outputs": [
    {
     "data": {
      "text/plain": [
       "array([[[0.        , 0.        , 0.        , 0.16601647],\n",
       "        [0.00260586, 0.01830065, 0.02      , 0.        ],\n",
       "        [0.01498371, 0.06143791, 0.04      , 0.20502818],\n",
       "        [0.01563518, 0.07058824, 0.04      , 0.2106632 ],\n",
       "        [0.02605863, 0.09019608, 0.04      , 0.13567404],\n",
       "        [0.05602606, 0.09673203, 0.04      , 0.56046814]],\n",
       "\n",
       "       [[0.00260586, 0.01830065, 0.02      , 0.        ],\n",
       "        [0.01498371, 0.06143791, 0.04      , 0.20502818],\n",
       "        [0.01563518, 0.07058824, 0.04      , 0.2106632 ],\n",
       "        [0.02605863, 0.09019608, 0.04      , 0.13567404],\n",
       "        [0.05602606, 0.09673203, 0.04      , 0.56046814],\n",
       "        [0.07296417, 0.11372549, 0.04      , 0.72908539]],\n",
       "\n",
       "       [[0.01498371, 0.06143791, 0.04      , 0.20502818],\n",
       "        [0.01563518, 0.07058824, 0.04      , 0.2106632 ],\n",
       "        [0.02605863, 0.09019608, 0.04      , 0.13567404],\n",
       "        [0.05602606, 0.09673203, 0.04      , 0.56046814],\n",
       "        [0.07296417, 0.11372549, 0.04      , 0.72908539],\n",
       "        [0.09315961, 0.1372549 , 0.04      , 0.57650629]],\n",
       "\n",
       "       [[0.01563518, 0.07058824, 0.04      , 0.2106632 ],\n",
       "        [0.02605863, 0.09019608, 0.04      , 0.13567404],\n",
       "        [0.05602606, 0.09673203, 0.04      , 0.56046814],\n",
       "        [0.07296417, 0.11372549, 0.04      , 0.72908539],\n",
       "        [0.09315961, 0.1372549 , 0.04      , 0.57650629],\n",
       "        [0.14527687, 0.15424837, 0.04      , 0.00650195]],\n",
       "\n",
       "       [[0.02605863, 0.09019608, 0.04      , 0.13567404],\n",
       "        [0.05602606, 0.09673203, 0.04      , 0.56046814],\n",
       "        [0.07296417, 0.11372549, 0.04      , 0.72908539],\n",
       "        [0.09315961, 0.1372549 , 0.04      , 0.57650629],\n",
       "        [0.14527687, 0.15424837, 0.04      , 0.00650195],\n",
       "        [0.14788274, 0.15555556, 0.04      , 0.7243173 ]],\n",
       "\n",
       "       [[0.05602606, 0.09673203, 0.04      , 0.56046814],\n",
       "        [0.07296417, 0.11372549, 0.04      , 0.72908539],\n",
       "        [0.09315961, 0.1372549 , 0.04      , 0.57650629],\n",
       "        [0.14527687, 0.15424837, 0.04      , 0.00650195],\n",
       "        [0.14788274, 0.15555556, 0.04      , 0.7243173 ],\n",
       "        [0.15309446, 0.18300654, 0.04      , 0.49024707]],\n",
       "\n",
       "       [[0.07296417, 0.11372549, 0.04      , 0.72908539],\n",
       "        [0.09315961, 0.1372549 , 0.04      , 0.57650629],\n",
       "        [0.14527687, 0.15424837, 0.04      , 0.00650195],\n",
       "        [0.14788274, 0.15555556, 0.04      , 0.7243173 ],\n",
       "        [0.15309446, 0.18300654, 0.04      , 0.49024707],\n",
       "        [0.25081433, 0.2       , 0.04      , 0.78326831]],\n",
       "\n",
       "       [[0.09315961, 0.1372549 , 0.04      , 0.57650629],\n",
       "        [0.14527687, 0.15424837, 0.04      , 0.00650195],\n",
       "        [0.14788274, 0.15555556, 0.04      , 0.7243173 ],\n",
       "        [0.15309446, 0.18300654, 0.04      , 0.49024707],\n",
       "        [0.25081433, 0.2       , 0.04      , 0.78326831],\n",
       "        [0.25667752, 0.23137255, 0.18      , 0.38751625]],\n",
       "\n",
       "       [[0.14527687, 0.15424837, 0.04      , 0.00650195],\n",
       "        [0.14788274, 0.15555556, 0.04      , 0.7243173 ],\n",
       "        [0.15309446, 0.18300654, 0.04      , 0.49024707],\n",
       "        [0.25081433, 0.2       , 0.04      , 0.78326831],\n",
       "        [0.25667752, 0.23137255, 0.18      , 0.38751625],\n",
       "        [0.28338762, 0.25620915, 0.18      , 0.78240139]],\n",
       "\n",
       "       [[0.14788274, 0.15555556, 0.04      , 0.7243173 ],\n",
       "        [0.15309446, 0.18300654, 0.04      , 0.49024707],\n",
       "        [0.25081433, 0.2       , 0.04      , 0.78326831],\n",
       "        [0.25667752, 0.23137255, 0.18      , 0.38751625],\n",
       "        [0.28338762, 0.25620915, 0.18      , 0.78240139],\n",
       "        [0.29250814, 0.29281046, 0.18      , 0.41048981]],\n",
       "\n",
       "       [[0.15309446, 0.18300654, 0.04      , 0.49024707],\n",
       "        [0.25081433, 0.2       , 0.04      , 0.78326831],\n",
       "        [0.25667752, 0.23137255, 0.18      , 0.38751625],\n",
       "        [0.28338762, 0.25620915, 0.18      , 0.78240139],\n",
       "        [0.29250814, 0.29281046, 0.18      , 0.41048981],\n",
       "        [0.30618893, 0.29411765, 0.18      , 0.62982228]],\n",
       "\n",
       "       [[0.25081433, 0.2       , 0.04      , 0.78326831],\n",
       "        [0.25667752, 0.23137255, 0.18      , 0.38751625],\n",
       "        [0.28338762, 0.25620915, 0.18      , 0.78240139],\n",
       "        [0.29250814, 0.29281046, 0.18      , 0.41048981],\n",
       "        [0.30618893, 0.29411765, 0.18      , 0.62982228],\n",
       "        [0.3276873 , 0.34248366, 0.18      , 0.61161682]],\n",
       "\n",
       "       [[0.25667752, 0.23137255, 0.18      , 0.38751625],\n",
       "        [0.28338762, 0.25620915, 0.18      , 0.78240139],\n",
       "        [0.29250814, 0.29281046, 0.18      , 0.41048981],\n",
       "        [0.30618893, 0.29411765, 0.18      , 0.62982228],\n",
       "        [0.3276873 , 0.34248366, 0.18      , 0.61161682],\n",
       "        [0.34267101, 0.35163399, 0.18      , 0.18422193]],\n",
       "\n",
       "       [[0.28338762, 0.25620915, 0.18      , 0.78240139],\n",
       "        [0.29250814, 0.29281046, 0.18      , 0.41048981],\n",
       "        [0.30618893, 0.29411765, 0.18      , 0.62982228],\n",
       "        [0.3276873 , 0.34248366, 0.18      , 0.61161682],\n",
       "        [0.34267101, 0.35163399, 0.18      , 0.18422193],\n",
       "        [0.34462541, 0.35686275, 0.18      , 0.62462072]],\n",
       "\n",
       "       [[0.29250814, 0.29281046, 0.18      , 0.41048981],\n",
       "        [0.30618893, 0.29411765, 0.18      , 0.62982228],\n",
       "        [0.3276873 , 0.34248366, 0.18      , 0.61161682],\n",
       "        [0.34267101, 0.35163399, 0.18      , 0.18422193],\n",
       "        [0.34462541, 0.35686275, 0.18      , 0.62462072],\n",
       "        [0.36938111, 0.40392157, 0.18      , 0.47290854]],\n",
       "\n",
       "       [[0.30618893, 0.29411765, 0.18      , 0.62982228],\n",
       "        [0.3276873 , 0.34248366, 0.18      , 0.61161682],\n",
       "        [0.34267101, 0.35163399, 0.18      , 0.18422193],\n",
       "        [0.34462541, 0.35686275, 0.18      , 0.62462072],\n",
       "        [0.36938111, 0.40392157, 0.18      , 0.47290854],\n",
       "        [0.38436482, 0.40522876, 0.18      , 0.5752059 ]],\n",
       "\n",
       "       [[0.3276873 , 0.34248366, 0.18      , 0.61161682],\n",
       "        [0.34267101, 0.35163399, 0.18      , 0.18422193],\n",
       "        [0.34462541, 0.35686275, 0.18      , 0.62462072],\n",
       "        [0.36938111, 0.40392157, 0.18      , 0.47290854],\n",
       "        [0.38436482, 0.40522876, 0.18      , 0.5752059 ],\n",
       "        [0.42019544, 0.4130719 , 0.18      , 0.01560468]],\n",
       "\n",
       "       [[0.34267101, 0.35163399, 0.18      , 0.18422193],\n",
       "        [0.34462541, 0.35686275, 0.18      , 0.62462072],\n",
       "        [0.36938111, 0.40392157, 0.18      , 0.47290854],\n",
       "        [0.38436482, 0.40522876, 0.18      , 0.5752059 ],\n",
       "        [0.42019544, 0.4130719 , 0.18      , 0.01560468],\n",
       "        [0.42345277, 0.46666667, 0.18      , 0.17728652]],\n",
       "\n",
       "       [[0.34462541, 0.35686275, 0.18      , 0.62462072],\n",
       "        [0.36938111, 0.40392157, 0.18      , 0.47290854],\n",
       "        [0.38436482, 0.40522876, 0.18      , 0.5752059 ],\n",
       "        [0.42019544, 0.4130719 , 0.18      , 0.01560468],\n",
       "        [0.42345277, 0.46666667, 0.18      , 0.17728652],\n",
       "        [0.43843648, 0.48104575, 0.18      , 0.91330733]],\n",
       "\n",
       "       [[0.36938111, 0.40392157, 0.18      , 0.47290854],\n",
       "        [0.38436482, 0.40522876, 0.18      , 0.5752059 ],\n",
       "        [0.42019544, 0.4130719 , 0.18      , 0.01560468],\n",
       "        [0.42345277, 0.46666667, 0.18      , 0.17728652],\n",
       "        [0.43843648, 0.48104575, 0.18      , 0.91330733],\n",
       "        [0.46449511, 0.51895425, 0.58      , 0.12483745]],\n",
       "\n",
       "       [[0.38436482, 0.40522876, 0.18      , 0.5752059 ],\n",
       "        [0.42019544, 0.4130719 , 0.18      , 0.01560468],\n",
       "        [0.42345277, 0.46666667, 0.18      , 0.17728652],\n",
       "        [0.43843648, 0.48104575, 0.18      , 0.91330733],\n",
       "        [0.46449511, 0.51895425, 0.58      , 0.12483745],\n",
       "        [0.51140065, 0.52156863, 0.42      , 0.60251409]],\n",
       "\n",
       "       [[0.42019544, 0.4130719 , 0.18      , 0.01560468],\n",
       "        [0.42345277, 0.46666667, 0.18      , 0.17728652],\n",
       "        [0.43843648, 0.48104575, 0.18      , 0.91330733],\n",
       "        [0.46449511, 0.51895425, 0.58      , 0.12483745],\n",
       "        [0.51140065, 0.52156863, 0.42      , 0.60251409],\n",
       "        [0.52247557, 0.53856209, 0.44      , 0.44603381]],\n",
       "\n",
       "       [[0.42345277, 0.46666667, 0.18      , 0.17728652],\n",
       "        [0.43843648, 0.48104575, 0.18      , 0.91330733],\n",
       "        [0.46449511, 0.51895425, 0.58      , 0.12483745],\n",
       "        [0.51140065, 0.52156863, 0.42      , 0.60251409],\n",
       "        [0.52247557, 0.53856209, 0.44      , 0.44603381],\n",
       "        [0.52964169, 0.56078431, 0.46      , 0.48027742]],\n",
       "\n",
       "       [[0.43843648, 0.48104575, 0.18      , 0.91330733],\n",
       "        [0.46449511, 0.51895425, 0.58      , 0.12483745],\n",
       "        [0.51140065, 0.52156863, 0.42      , 0.60251409],\n",
       "        [0.52247557, 0.53856209, 0.44      , 0.44603381],\n",
       "        [0.52964169, 0.56078431, 0.46      , 0.48027742],\n",
       "        [0.58045603, 0.62091503, 0.48      , 0.26918075]],\n",
       "\n",
       "       [[0.46449511, 0.51895425, 0.58      , 0.12483745],\n",
       "        [0.51140065, 0.52156863, 0.42      , 0.60251409],\n",
       "        [0.52247557, 0.53856209, 0.44      , 0.44603381],\n",
       "        [0.52964169, 0.56078431, 0.46      , 0.48027742],\n",
       "        [0.58045603, 0.62091503, 0.48      , 0.26918075],\n",
       "        [0.59022801, 0.65098039, 0.48      , 0.73428695]],\n",
       "\n",
       "       [[0.51140065, 0.52156863, 0.42      , 0.60251409],\n",
       "        [0.52247557, 0.53856209, 0.44      , 0.44603381],\n",
       "        [0.52964169, 0.56078431, 0.46      , 0.48027742],\n",
       "        [0.58045603, 0.62091503, 0.48      , 0.26918075],\n",
       "        [0.59022801, 0.65098039, 0.48      , 0.73428695],\n",
       "        [0.59283388, 0.65882353, 0.48      , 0.48807976]],\n",
       "\n",
       "       [[0.52247557, 0.53856209, 0.44      , 0.44603381],\n",
       "        [0.52964169, 0.56078431, 0.46      , 0.48027742],\n",
       "        [0.58045603, 0.62091503, 0.48      , 0.26918075],\n",
       "        [0.59022801, 0.65098039, 0.48      , 0.73428695],\n",
       "        [0.59283388, 0.65882353, 0.48      , 0.48807976],\n",
       "        [0.62931596, 0.6875817 , 0.48      , 0.4958821 ]],\n",
       "\n",
       "       [[0.52964169, 0.56078431, 0.46      , 0.48027742],\n",
       "        [0.58045603, 0.62091503, 0.48      , 0.26918075],\n",
       "        [0.59022801, 0.65098039, 0.48      , 0.73428695],\n",
       "        [0.59283388, 0.65882353, 0.48      , 0.48807976],\n",
       "        [0.62931596, 0.6875817 , 0.48      , 0.4958821 ],\n",
       "        [0.69771987, 0.7124183 , 0.48      , 0.48461205]],\n",
       "\n",
       "       [[0.58045603, 0.62091503, 0.48      , 0.26918075],\n",
       "        [0.59022801, 0.65098039, 0.48      , 0.73428695],\n",
       "        [0.59283388, 0.65882353, 0.48      , 0.48807976],\n",
       "        [0.62931596, 0.6875817 , 0.48      , 0.4958821 ],\n",
       "        [0.69771987, 0.7124183 , 0.48      , 0.48461205],\n",
       "        [0.70423453, 0.73333333, 0.48      , 0.55613351]],\n",
       "\n",
       "       [[0.59022801, 0.65098039, 0.48      , 0.73428695],\n",
       "        [0.59283388, 0.65882353, 0.48      , 0.48807976],\n",
       "        [0.62931596, 0.6875817 , 0.48      , 0.4958821 ],\n",
       "        [0.69771987, 0.7124183 , 0.48      , 0.48461205],\n",
       "        [0.70423453, 0.73333333, 0.48      , 0.55613351],\n",
       "        [0.70944625, 0.77254902, 0.48      , 0.0437798 ]],\n",
       "\n",
       "       [[0.59283388, 0.65882353, 0.48      , 0.48807976],\n",
       "        [0.62931596, 0.6875817 , 0.48      , 0.4958821 ],\n",
       "        [0.69771987, 0.7124183 , 0.48      , 0.48461205],\n",
       "        [0.70423453, 0.73333333, 0.48      , 0.55613351],\n",
       "        [0.70944625, 0.77254902, 0.48      , 0.0437798 ],\n",
       "        [0.74332248, 0.7869281 , 0.48      , 0.83528392]],\n",
       "\n",
       "       [[0.62931596, 0.6875817 , 0.48      , 0.4958821 ],\n",
       "        [0.69771987, 0.7124183 , 0.48      , 0.48461205],\n",
       "        [0.70423453, 0.73333333, 0.48      , 0.55613351],\n",
       "        [0.70944625, 0.77254902, 0.48      , 0.0437798 ],\n",
       "        [0.74332248, 0.7869281 , 0.48      , 0.83528392],\n",
       "        [0.75179153, 0.82352941, 0.76      , 0.46944083]],\n",
       "\n",
       "       [[0.69771987, 0.7124183 , 0.48      , 0.48461205],\n",
       "        [0.70423453, 0.73333333, 0.48      , 0.55613351],\n",
       "        [0.70944625, 0.77254902, 0.48      , 0.0437798 ],\n",
       "        [0.74332248, 0.7869281 , 0.48      , 0.83528392],\n",
       "        [0.75179153, 0.82352941, 0.76      , 0.46944083],\n",
       "        [0.75765472, 0.82614379, 0.8       , 0.44343303]],\n",
       "\n",
       "       [[0.70423453, 0.73333333, 0.48      , 0.55613351],\n",
       "        [0.70944625, 0.77254902, 0.48      , 0.0437798 ],\n",
       "        [0.74332248, 0.7869281 , 0.48      , 0.83528392],\n",
       "        [0.75179153, 0.82352941, 0.76      , 0.46944083],\n",
       "        [0.75765472, 0.82614379, 0.8       , 0.44343303],\n",
       "        [0.75765472, 0.82614379, 0.8       , 0.32206329]],\n",
       "\n",
       "       [[0.70944625, 0.77254902, 0.48      , 0.0437798 ],\n",
       "        [0.74332248, 0.7869281 , 0.48      , 0.83528392],\n",
       "        [0.75179153, 0.82352941, 0.76      , 0.46944083],\n",
       "        [0.75765472, 0.82614379, 0.8       , 0.44343303],\n",
       "        [0.75765472, 0.82614379, 0.8       , 0.32206329],\n",
       "        [0.75895765, 0.8379085 , 0.82      , 0.35457304]],\n",
       "\n",
       "       [[0.74332248, 0.7869281 , 0.48      , 0.83528392],\n",
       "        [0.75179153, 0.82352941, 0.76      , 0.46944083],\n",
       "        [0.75765472, 0.82614379, 0.8       , 0.44343303],\n",
       "        [0.75765472, 0.82614379, 0.8       , 0.32206329],\n",
       "        [0.75895765, 0.8379085 , 0.82      , 0.35457304],\n",
       "        [0.79153094, 0.8379085 , 0.84      , 0.57477243]],\n",
       "\n",
       "       [[0.75179153, 0.82352941, 0.76      , 0.46944083],\n",
       "        [0.75765472, 0.82614379, 0.8       , 0.44343303],\n",
       "        [0.75765472, 0.82614379, 0.8       , 0.32206329],\n",
       "        [0.75895765, 0.8379085 , 0.82      , 0.35457304],\n",
       "        [0.79153094, 0.8379085 , 0.84      , 0.57477243],\n",
       "        [0.84039088, 0.88235294, 0.88      , 0.57780668]],\n",
       "\n",
       "       [[0.75765472, 0.82614379, 0.8       , 0.44343303],\n",
       "        [0.75765472, 0.82614379, 0.8       , 0.32206329],\n",
       "        [0.75895765, 0.8379085 , 0.82      , 0.35457304],\n",
       "        [0.79153094, 0.8379085 , 0.84      , 0.57477243],\n",
       "        [0.84039088, 0.88235294, 0.88      , 0.57780668],\n",
       "        [0.84820847, 0.91111111, 0.9       , 0.00520156]],\n",
       "\n",
       "       [[0.75765472, 0.82614379, 0.8       , 0.32206329],\n",
       "        [0.75895765, 0.8379085 , 0.82      , 0.35457304],\n",
       "        [0.79153094, 0.8379085 , 0.84      , 0.57477243],\n",
       "        [0.84039088, 0.88235294, 0.88      , 0.57780668],\n",
       "        [0.84820847, 0.91111111, 0.9       , 0.00520156],\n",
       "        [0.8534202 , 0.91503268, 0.94      , 0.52492414]],\n",
       "\n",
       "       [[0.75895765, 0.8379085 , 0.82      , 0.35457304],\n",
       "        [0.79153094, 0.8379085 , 0.84      , 0.57477243],\n",
       "        [0.84039088, 0.88235294, 0.88      , 0.57780668],\n",
       "        [0.84820847, 0.91111111, 0.9       , 0.00520156],\n",
       "        [0.8534202 , 0.91503268, 0.94      , 0.52492414],\n",
       "        [0.87296417, 0.91764706, 0.94      , 0.28478544]],\n",
       "\n",
       "       [[0.79153094, 0.8379085 , 0.84      , 0.57477243],\n",
       "        [0.84039088, 0.88235294, 0.88      , 0.57780668],\n",
       "        [0.84820847, 0.91111111, 0.9       , 0.00520156],\n",
       "        [0.8534202 , 0.91503268, 0.94      , 0.52492414],\n",
       "        [0.87296417, 0.91764706, 0.94      , 0.28478544],\n",
       "        [0.94332248, 0.9503268 , 0.96      , 0.56263546]]])"
      ]
     },
     "execution_count": 16,
     "metadata": {},
     "output_type": "execute_result"
    }
   ],
   "source": [
    "X_train"
   ]
  },
  {
   "cell_type": "code",
   "execution_count": 17,
   "metadata": {},
   "outputs": [
    {
     "data": {
      "text/plain": [
       "array([[[0.2627451 , 0.57837838, 0.42857143, 0.38941044],\n",
       "        [0.56862745, 0.78378378, 0.42857143, 0.4690199 ]],\n",
       "\n",
       "       [[0.56862745, 0.78378378, 0.42857143, 0.4690199 ],\n",
       "        [0.59607843, 0.84324324, 0.57142857, 0.39391664]],\n",
       "\n",
       "       [[0.59607843, 0.84324324, 0.57142857, 0.39391664],\n",
       "        [0.65882353, 0.86486486, 0.85714286, 0.33158092]],\n",
       "\n",
       "       [[0.65882353, 0.86486486, 0.85714286, 0.33158092],\n",
       "        [1.        , 1.        , 1.        , 1.        ]]])"
      ]
     },
     "execution_count": 17,
     "metadata": {},
     "output_type": "execute_result"
    }
   ],
   "source": [
    "y_test"
   ]
  },
  {
   "attachments": {},
   "cell_type": "markdown",
   "metadata": {},
   "source": [
    "#### Baseline Model"
   ]
  },
  {
   "cell_type": "code",
   "execution_count": 18,
   "metadata": {},
   "outputs": [],
   "source": [
    "import tensorflow as tf\n",
    "from tensorflow.keras import Sequential\n",
    "from tensorflow.keras.layers import LSTM, Dense, Dropout, TimeDistributed, Conv1D, MaxPooling1D, Flatten, Bidirectional, Input, Flatten, Activation, Reshape, RepeatVector, Concatenate\n",
    "from tensorflow.keras.models import Model\n",
    "from tensorflow.keras.utils import plot_model\n",
    "# from plot_model import plot_model\n",
    "from tensorflow.keras.callbacks import EarlyStopping, ReduceLROnPlateau, ModelCheckpoint"
   ]
  },
  {
   "cell_type": "code",
   "execution_count": 19,
   "metadata": {},
   "outputs": [],
   "source": [
    "### For saving the best model \n",
    "checkpoint_filepath = 'path_to_checkpoint_filepath'\n",
    "checkpoint_callback = ModelCheckpoint(filepath=checkpoint_filepath, save_weights_only=False, monitor='val_loss', mode='min', save_best_only=True)\n",
    "\n",
    "### Early stoping the model\n",
    "early_stopping_callback = EarlyStopping(monitor='val_loss', min_delta=0.005, patience=10, mode='min')\n",
    "\n",
    "### Reduce on plateau for decreasing learning rate\n",
    "rlop_callback = ReduceLROnPlateau(monitor='val_loss', factor=0.2, mode='min', patience=3, min_lr=0.001)"
   ]
  },
  {
   "cell_type": "code",
   "execution_count": 20,
   "metadata": {},
   "outputs": [],
   "source": [
    "### function to inverse the normalization\n",
    "\n",
    "def inverse_transform(y_test, y_hat):\n",
    "    y_test_reshaped = y_test.reshape(-1, y_test.shape[-1])\n",
    "    y_hat_reshaped = y_hat.reshape(-1, y_hat.shape[-1])\n",
    "    \n",
    "    y_hat_inverse = scaler.inverse_transform(y_hat_reshaped)\n",
    "    y_test_inverse = scaler.inverse_transform(y_test_reshaped)\n",
    "    \n",
    "    return y_hat_inverse, y_test_inverse"
   ]
  },
  {
   "cell_type": "code",
   "execution_count": 21,
   "metadata": {},
   "outputs": [],
   "source": [
    "### Evaluation metrics\n",
    "\n",
    "def evaluate_forecast(y_test_inverse, y_hat_inverse):\n",
    " mse_ = tf.keras.losses.MeanSquaredError()\n",
    " mae_ = tf.keras.losses.MeanAbsoluteError()\n",
    " mape_ = tf.keras.losses.MeanAbsolutePercentageError()\n",
    " mae = mae_(y_test_inverse,y_hat_inverse)\n",
    " print('mae:', mae)\n",
    " mse = mse_(y_test_inverse,y_hat_inverse)\n",
    " print('mse:', mse)\n",
    " mape = mape_(y_test_inverse,y_hat_inverse)\n",
    " print('mape:', mape)"
   ]
  },
  {
   "attachments": {},
   "cell_type": "markdown",
   "metadata": {},
   "source": [
    "#### Model Building\n",
    "\n",
    " * TimeDistributed Layer :  https://github.com/keras-team/keras/issues/1029.\n",
    " * RepeatVector : https://stackoverflow.com/questions/51749404/how-to-connect-lstm-layers-in-keras-repeatvector-or-return-sequence-true\n",
    "\n",
    " * Both Topics : https://towardsdatascience.com/step-by-step-understanding-lstm-autoencoder-layers-ffab055b6352\n"
   ]
  },
  {
   "cell_type": "code",
   "execution_count": 22,
   "metadata": {},
   "outputs": [],
   "source": [
    "epochs = 10\n",
    "batch_size = 4\n",
    "validation = 0.1"
   ]
  },
  {
   "cell_type": "code",
   "execution_count": 23,
   "metadata": {},
   "outputs": [
    {
     "name": "stdout",
     "output_type": "stream",
     "text": [
      "WARNING:tensorflow:Layer lstm will not use cuDNN kernels since it doesn't meet the criteria. It will use a generic GPU kernel as fallback when running on GPU.\n",
      "WARNING:tensorflow:Layer lstm_1 will not use cuDNN kernels since it doesn't meet the criteria. It will use a generic GPU kernel as fallback when running on GPU.\n",
      "Epoch 1/10\n",
      "7/9 [======================>.......] - ETA: 0s - loss: 0.2620 INFO:tensorflow:Assets written to: path_to_checkpoint_filepath\\assets\n",
      "9/9 [==============================] - 15s 762ms/step - loss: 0.2592 - val_loss: 0.7005 - lr: 0.0010\n",
      "Epoch 2/10\n",
      "7/9 [======================>.......] - ETA: 0s - loss: 0.2573INFO:tensorflow:Assets written to: path_to_checkpoint_filepath\\assets\n",
      "9/9 [==============================] - 4s 458ms/step - loss: 0.2451 - val_loss: 0.6750 - lr: 0.0010\n",
      "Epoch 3/10\n",
      "9/9 [==============================] - ETA: 0s - loss: 0.2293INFO:tensorflow:Assets written to: path_to_checkpoint_filepath\\assets\n",
      "9/9 [==============================] - 5s 634ms/step - loss: 0.2293 - val_loss: 0.6425 - lr: 0.0010\n",
      "Epoch 4/10\n",
      "9/9 [==============================] - ETA: 0s - loss: 0.2110INFO:tensorflow:Assets written to: path_to_checkpoint_filepath\\assets\n",
      "9/9 [==============================] - 4s 499ms/step - loss: 0.2110 - val_loss: 0.6001 - lr: 0.0010\n",
      "Epoch 5/10\n",
      "5/9 [===============>..............] - ETA: 0s - loss: 0.1813INFO:tensorflow:Assets written to: path_to_checkpoint_filepath\\assets\n",
      "9/9 [==============================] - 5s 571ms/step - loss: 0.1871 - val_loss: 0.5398 - lr: 0.0010\n",
      "Epoch 6/10\n",
      "9/9 [==============================] - ETA: 0s - loss: 0.1572INFO:tensorflow:Assets written to: path_to_checkpoint_filepath\\assets\n",
      "9/9 [==============================] - 4s 510ms/step - loss: 0.1572 - val_loss: 0.4446 - lr: 0.0010\n",
      "Epoch 7/10\n",
      "9/9 [==============================] - ETA: 0s - loss: 0.1155INFO:tensorflow:Assets written to: path_to_checkpoint_filepath\\assets\n",
      "9/9 [==============================] - 3s 433ms/step - loss: 0.1155 - val_loss: 0.2987 - lr: 0.0010\n",
      "Epoch 8/10\n",
      "9/9 [==============================] - ETA: 0s - loss: 0.0749INFO:tensorflow:Assets written to: path_to_checkpoint_filepath\\assets\n",
      "9/9 [==============================] - 4s 471ms/step - loss: 0.0749 - val_loss: 0.1959 - lr: 0.0010\n",
      "Epoch 9/10\n",
      "9/9 [==============================] - ETA: 0s - loss: 0.0636INFO:tensorflow:Assets written to: path_to_checkpoint_filepath\\assets\n",
      "9/9 [==============================] - 4s 560ms/step - loss: 0.0636 - val_loss: 0.1498 - lr: 0.0010\n",
      "Epoch 10/10\n",
      "9/9 [==============================] - 0s 19ms/step - loss: 0.0537 - val_loss: 0.1502 - lr: 0.0010\n",
      "mae: tf.Tensor(158.6316, shape=(), dtype=float32)\n",
      "mse: tf.Tensor(101506.34, shape=(), dtype=float32)\n",
      "mape: tf.Tensor(4.1684284, shape=(), dtype=float32)\n"
     ]
    }
   ],
   "source": [
    "### Encoder-Decoder Model\n",
    "\n",
    "model_enc_dec = Sequential()\n",
    "model_enc_dec.add(LSTM(10, activation='relu', input_shape=(LOOK_BACK, n_features)))\n",
    "model_enc_dec.add(RepeatVector(FORECAST_RANGE))\n",
    "model_enc_dec.add(LSTM(10, activation='relu', return_sequences=True))\n",
    "model_enc_dec.add(TimeDistributed(Dense(n_features)))\n",
    "model_enc_dec.compile(optimizer='adam', loss='mse')\n",
    "\n",
    "# plot_model(model=model_enc_dec, show_shapes=True)\n",
    "\n",
    "history = model_enc_dec.fit(X_train, y_train, epochs=epochs, batch_size=batch_size, validation_split=validation,\n",
    "                            callbacks=[early_stopping_callback, checkpoint_callback, rlop_callback])\n",
    "\n",
    "y_hat = model_enc_dec.predict(X_test, verbose=0)\n",
    "\n",
    "y_hat_inverse, y_test_inverse = inverse_transform(y_test, y_hat)\n",
    "\n",
    "evaluate_forecast(y_test_inverse, y_hat_inverse)"
   ]
  },
  {
   "cell_type": "code",
   "execution_count": 24,
   "metadata": {},
   "outputs": [
    {
     "data": {
      "image/png": "[encoded data removed]",
      "text/plain": [
       "<IPython.core.display.Image object>"
      ]
     },
     "execution_count": 24,
     "metadata": {},
     "output_type": "execute_result"
    }
   ],
   "source": [
    "plot_model(model=model_enc_dec, show_shapes=True)"
   ]
  },
  {
   "cell_type": "code",
   "execution_count": 25,
   "metadata": {},
   "outputs": [
    {
     "name": "stdout",
     "output_type": "stream",
     "text": [
      "WARNING:tensorflow:Layer lstm_2 will not use cuDNN kernels since it doesn't meet the criteria. It will use a generic GPU kernel as fallback when running on GPU.\n",
      "Epoch 1/10\n",
      "9/9 [==============================] - 5s 81ms/step - loss: 0.2599 - val_loss: 0.6792 - lr: 0.0010\n",
      "Epoch 2/10\n",
      "9/9 [==============================] - 0s 25ms/step - loss: 0.2274 - val_loss: 0.6154 - lr: 0.0010\n",
      "Epoch 3/10\n",
      "9/9 [==============================] - 0s 24ms/step - loss: 0.1914 - val_loss: 0.5356 - lr: 0.0010\n",
      "Epoch 4/10\n",
      "9/9 [==============================] - 0s 37ms/step - loss: 0.1521 - val_loss: 0.4439 - lr: 0.0010\n",
      "Epoch 5/10\n",
      "9/9 [==============================] - 0s 20ms/step - loss: 0.1093 - val_loss: 0.3428 - lr: 0.0010\n",
      "Epoch 6/10\n",
      "9/9 [==============================] - 0s 19ms/step - loss: 0.0793 - val_loss: 0.2377 - lr: 0.0010\n",
      "Epoch 7/10\n",
      "9/9 [==============================] - 0s 17ms/step - loss: 0.0608 - val_loss: 0.1808 - lr: 0.0010\n",
      "Epoch 8/10\n",
      "9/9 [==============================] - 0s 17ms/step - loss: 0.0608 - val_loss: 0.1558 - lr: 0.0010\n",
      "Epoch 9/10\n",
      "9/9 [==============================] - 0s 15ms/step - loss: 0.0562 - val_loss: 0.1651 - lr: 0.0010\n",
      "Epoch 10/10\n",
      "9/9 [==============================] - 0s 15ms/step - loss: 0.0544 - val_loss: 0.1712 - lr: 0.0010\n",
      "mae: tf.Tensor(100.22442, shape=(), dtype=float32)\n",
      "mse: tf.Tensor(66578.945, shape=(), dtype=float32)\n",
      "mape: tf.Tensor(2.4932392, shape=(), dtype=float32)\n"
     ]
    }
   ],
   "source": [
    "### CNN-LSTM Encoder-Decoder Model\n",
    "\n",
    "model_enc_dec_cnn = Sequential()\n",
    "model_enc_dec_cnn.add(Conv1D(filters=4,kernel_size=3, activation='relu', input_shape=(LOOK_BACK, n_features)))\n",
    "model_enc_dec_cnn.add(Conv1D(filters=4, kernel_size=4, activation='relu'))\n",
    "model_enc_dec_cnn.add(MaxPooling1D(pool_size=1))\n",
    "model_enc_dec_cnn.add(Flatten())\n",
    "model_enc_dec_cnn.add(RepeatVector(FORECAST_RANGE))\n",
    "model_enc_dec_cnn.add(LSTM(20, activation='relu', return_sequences=True))\n",
    "model_enc_dec_cnn.add(TimeDistributed(Dense(100, activation='relu')))\n",
    "model_enc_dec_cnn.add(TimeDistributed(Dense(n_features)))\n",
    "model_enc_dec_cnn.compile(loss='mse', optimizer='adam')\n",
    "\n",
    "history = model_enc_dec_cnn.fit(X_train, y_train, epochs=epochs, batch_size=batch_size, validation_split=validation,\n",
    "                            callbacks=[early_stopping_callback, checkpoint_callback, rlop_callback])\n",
    "\n",
    "y_hat = model_enc_dec_cnn.predict(X_test, verbose=0)\n",
    "\n",
    "y_hat_inverse, y_test_inverse = inverse_transform(y_test, y_hat)\n",
    "\n",
    "evaluate_forecast(y_test_inverse, y_hat_inverse)"
   ]
  },
  {
   "cell_type": "code",
   "execution_count": 26,
   "metadata": {},
   "outputs": [
    {
     "data": {
      "image/png": "[encoded data removed]",
      "text/plain": [
       "<IPython.core.display.Image object>"
      ]
     },
     "execution_count": 26,
     "metadata": {},
     "output_type": "execute_result"
    }
   ],
   "source": [
    "plot_model(model=model_enc_dec_cnn, show_shapes=True)"
   ]
  },
  {
   "cell_type": "code",
   "execution_count": 27,
   "metadata": {},
   "outputs": [
    {
     "data": {
      "text/plain": [
       "(4, 2, 4)"
      ]
     },
     "execution_count": 27,
     "metadata": {},
     "output_type": "execute_result"
    }
   ],
   "source": [
    "y_hat.shape"
   ]
  },
  {
   "cell_type": "code",
   "execution_count": 28,
   "metadata": {},
   "outputs": [
    {
     "name": "stdout",
     "output_type": "stream",
     "text": [
      "WARNING:tensorflow:Layer lstm_3 will not use cuDNN kernels since it doesn't meet the criteria. It will use a generic GPU kernel as fallback when running on GPU.\n"
     ]
    },
    {
     "name": "stdout",
     "output_type": "stream",
     "text": [
      "WARNING:tensorflow:Layer lstm_4 will not use cuDNN kernels since it doesn't meet the criteria. It will use a generic GPU kernel as fallback when running on GPU.\n",
      "Epoch 1/10\n",
      "9/9 [==============================] - 3s 70ms/step - loss: 0.2673 - val_loss: 0.7092 - lr: 0.0010\n",
      "Epoch 2/10\n",
      "9/9 [==============================] - 0s 20ms/step - loss: 0.2539 - val_loss: 0.6733 - lr: 0.0010\n",
      "Epoch 3/10\n",
      "9/9 [==============================] - 0s 17ms/step - loss: 0.2336 - val_loss: 0.6147 - lr: 0.0010\n",
      "Epoch 4/10\n",
      "9/9 [==============================] - 0s 18ms/step - loss: 0.2062 - val_loss: 0.5132 - lr: 0.0010\n",
      "Epoch 5/10\n",
      "9/9 [==============================] - 0s 16ms/step - loss: 0.1557 - val_loss: 0.3516 - lr: 0.0010\n",
      "Epoch 6/10\n",
      "9/9 [==============================] - 0s 17ms/step - loss: 0.0885 - val_loss: 0.1629 - lr: 0.0010\n",
      "Epoch 7/10\n",
      "9/9 [==============================] - 0s 24ms/step - loss: 0.0591 - val_loss: 0.1811 - lr: 0.0010\n",
      "Epoch 8/10\n",
      "6/9 [===================>..........] - ETA: 0s - loss: 0.0598"
     ]
    },
    {
     "name": "stderr",
     "output_type": "stream",
     "text": [
      "WARNING:absl:Found untraced functions such as _jit_compiled_convolution_op, _jit_compiled_convolution_op while saving (showing 2 of 2). These functions will not be directly callable after loading.\n"
     ]
    },
    {
     "name": "stdout",
     "output_type": "stream",
     "text": [
      "INFO:tensorflow:Assets written to: path_to_checkpoint_filepath\\assets\n"
     ]
    },
    {
     "name": "stderr",
     "output_type": "stream",
     "text": [
      "INFO:tensorflow:Assets written to: path_to_checkpoint_filepath\\assets\n"
     ]
    },
    {
     "name": "stdout",
     "output_type": "stream",
     "text": [
      "9/9 [==============================] - 6s 808ms/step - loss: 0.0547 - val_loss: 0.1456 - lr: 0.0010\n",
      "Epoch 9/10\n",
      "9/9 [==============================] - 0s 16ms/step - loss: 0.0516 - val_loss: 0.1508 - lr: 0.0010\n",
      "Epoch 10/10\n",
      "9/9 [==============================] - ETA: 0s - loss: 0.0517"
     ]
    },
    {
     "name": "stderr",
     "output_type": "stream",
     "text": [
      "WARNING:absl:Found untraced functions such as _jit_compiled_convolution_op, _jit_compiled_convolution_op while saving (showing 2 of 2). These functions will not be directly callable after loading.\n"
     ]
    },
    {
     "name": "stdout",
     "output_type": "stream",
     "text": [
      "INFO:tensorflow:Assets written to: path_to_checkpoint_filepath\\assets\n"
     ]
    },
    {
     "name": "stderr",
     "output_type": "stream",
     "text": [
      "INFO:tensorflow:Assets written to: path_to_checkpoint_filepath\\assets\n"
     ]
    },
    {
     "name": "stdout",
     "output_type": "stream",
     "text": [
      "9/9 [==============================] - 4s 539ms/step - loss: 0.0517 - val_loss: 0.1449 - lr: 0.0010\n",
      "mae: tf.Tensor(136.50531, shape=(), dtype=float32)\n",
      "mse: tf.Tensor(106791.17, shape=(), dtype=float32)\n",
      "mape: tf.Tensor(3.443636, shape=(), dtype=float32)\n"
     ]
    }
   ],
   "source": [
    "### Vector Output model\n",
    "\n",
    "input_layer = Input(shape=(LOOK_BACK, n_features)) \n",
    "conv = Conv1D(filters=4, kernel_size=3, activation='relu')(input_layer)\n",
    "conv = Conv1D(filters=6, kernel_size=4, activation='relu')(conv)\n",
    "lstm = LSTM(100, return_sequences=True, activation='relu')(conv)\n",
    "dropout = Dropout(0.2)(lstm)\n",
    "lstm = LSTM(100, activation='relu')(dropout)\n",
    "dense = Dense(FORECAST_RANGE*n_features, activation='relu')(lstm)\n",
    "output_layer = Reshape((FORECAST_RANGE,n_features))(dense)\n",
    "model_vector_output = Model([input_layer], [output_layer])\n",
    "model_vector_output.compile(optimizer='adam', loss='mse')\n",
    "\n",
    "history = model_vector_output.fit(X_train, y_train, epochs=epochs, batch_size=batch_size, validation_split=validation,\n",
    "                            callbacks=[early_stopping_callback, checkpoint_callback, rlop_callback])\n",
    "\n",
    "y_hat = model_vector_output.predict(X_test, verbose=0)\n",
    "\n",
    "y_hat_inverse, y_test_inverse = inverse_transform(y_test, y_hat)\n",
    "\n",
    "evaluate_forecast(y_test_inverse, y_hat_inverse)"
   ]
  },
  {
   "cell_type": "code",
   "execution_count": 29,
   "metadata": {},
   "outputs": [
    {
     "data": {
      "image/png": "[encoded data removed]",
      "text/plain": [
       "<IPython.core.display.Image object>"
      ]
     },
     "execution_count": 29,
     "metadata": {},
     "output_type": "execute_result"
    }
   ],
   "source": [
    "plot_model(model=model_vector_output, show_shapes=True)"
   ]
  },
  {
   "cell_type": "code",
   "execution_count": 30,
   "metadata": {},
   "outputs": [
    {
     "name": "stdout",
     "output_type": "stream",
     "text": [
      "WARNING:tensorflow:Layer lstm_5 will not use cuDNN kernels since it doesn't meet the criteria. It will use a generic GPU kernel as fallback when running on GPU.\n"
     ]
    },
    {
     "name": "stderr",
     "output_type": "stream",
     "text": [
      "WARNING:tensorflow:Layer lstm_5 will not use cuDNN kernels since it doesn't meet the criteria. It will use a generic GPU kernel as fallback when running on GPU.\n"
     ]
    },
    {
     "name": "stdout",
     "output_type": "stream",
     "text": [
      "WARNING:tensorflow:Layer lstm_6 will not use cuDNN kernels since it doesn't meet the criteria. It will use a generic GPU kernel as fallback when running on GPU.\n"
     ]
    },
    {
     "name": "stderr",
     "output_type": "stream",
     "text": [
      "WARNING:tensorflow:Layer lstm_6 will not use cuDNN kernels since it doesn't meet the criteria. It will use a generic GPU kernel as fallback when running on GPU.\n"
     ]
    },
    {
     "name": "stdout",
     "output_type": "stream",
     "text": [
      "Epoch 1/10\n",
      "9/9 [==============================] - 3s 79ms/step - loss: 0.2624 - val_loss: 0.6792 - lr: 0.0010\n",
      "Epoch 2/10\n",
      "9/9 [==============================] - 0s 21ms/step - loss: 0.2285 - val_loss: 0.5788 - lr: 0.0010\n",
      "Epoch 3/10\n",
      "9/9 [==============================] - 0s 23ms/step - loss: 0.1561 - val_loss: 0.3083 - lr: 0.0010\n",
      "Epoch 4/10\n",
      "9/9 [==============================] - 0s 25ms/step - loss: 0.0787 - val_loss: 0.1463 - lr: 0.0010\n",
      "Epoch 5/10\n",
      "7/9 [======================>.......] - ETA: 0s - loss: 0.0611"
     ]
    },
    {
     "name": "stderr",
     "output_type": "stream",
     "text": [
      "WARNING:absl:Found untraced functions such as _jit_compiled_convolution_op, _jit_compiled_convolution_op, _jit_compiled_convolution_op, _jit_compiled_convolution_op, _jit_compiled_convolution_op while saving (showing 5 of 8). These functions will not be directly callable after loading.\n"
     ]
    },
    {
     "name": "stdout",
     "output_type": "stream",
     "text": [
      "INFO:tensorflow:Assets written to: path_to_checkpoint_filepath\\assets\n"
     ]
    },
    {
     "name": "stderr",
     "output_type": "stream",
     "text": [
      "INFO:tensorflow:Assets written to: path_to_checkpoint_filepath\\assets\n"
     ]
    },
    {
     "name": "stdout",
     "output_type": "stream",
     "text": [
      "9/9 [==============================] - 6s 705ms/step - loss: 0.0584 - val_loss: 0.1314 - lr: 0.0010\n",
      "Epoch 6/10\n",
      "7/9 [======================>.......] - ETA: 0s - loss: 0.0537"
     ]
    },
    {
     "name": "stderr",
     "output_type": "stream",
     "text": [
      "WARNING:absl:Found untraced functions such as _jit_compiled_convolution_op, _jit_compiled_convolution_op, _jit_compiled_convolution_op, _jit_compiled_convolution_op, _jit_compiled_convolution_op while saving (showing 5 of 8). These functions will not be directly callable after loading.\n"
     ]
    },
    {
     "name": "stdout",
     "output_type": "stream",
     "text": [
      "INFO:tensorflow:Assets written to: path_to_checkpoint_filepath\\assets\n"
     ]
    },
    {
     "name": "stderr",
     "output_type": "stream",
     "text": [
      "INFO:tensorflow:Assets written to: path_to_checkpoint_filepath\\assets\n"
     ]
    },
    {
     "name": "stdout",
     "output_type": "stream",
     "text": [
      "9/9 [==============================] - 5s 676ms/step - loss: 0.0522 - val_loss: 0.0865 - lr: 0.0010\n",
      "Epoch 7/10\n",
      "7/9 [======================>.......] - ETA: 0s - loss: 0.0468"
     ]
    },
    {
     "name": "stderr",
     "output_type": "stream",
     "text": [
      "WARNING:absl:Found untraced functions such as _jit_compiled_convolution_op, _jit_compiled_convolution_op, _jit_compiled_convolution_op, _jit_compiled_convolution_op, _jit_compiled_convolution_op while saving (showing 5 of 8). These functions will not be directly callable after loading.\n"
     ]
    },
    {
     "name": "stdout",
     "output_type": "stream",
     "text": [
      "INFO:tensorflow:Assets written to: path_to_checkpoint_filepath\\assets\n"
     ]
    },
    {
     "name": "stderr",
     "output_type": "stream",
     "text": [
      "INFO:tensorflow:Assets written to: path_to_checkpoint_filepath\\assets\n"
     ]
    },
    {
     "name": "stdout",
     "output_type": "stream",
     "text": [
      "9/9 [==============================] - 5s 645ms/step - loss: 0.0484 - val_loss: 0.0811 - lr: 0.0010\n",
      "Epoch 8/10\n",
      "8/9 [=========================>....] - ETA: 0s - loss: 0.0443"
     ]
    },
    {
     "name": "stderr",
     "output_type": "stream",
     "text": [
      "WARNING:absl:Found untraced functions such as _jit_compiled_convolution_op, _jit_compiled_convolution_op, _jit_compiled_convolution_op, _jit_compiled_convolution_op, _jit_compiled_convolution_op while saving (showing 5 of 8). These functions will not be directly callable after loading.\n"
     ]
    },
    {
     "name": "stdout",
     "output_type": "stream",
     "text": [
      "INFO:tensorflow:Assets written to: path_to_checkpoint_filepath\\assets\n"
     ]
    },
    {
     "name": "stderr",
     "output_type": "stream",
     "text": [
      "INFO:tensorflow:Assets written to: path_to_checkpoint_filepath\\assets\n"
     ]
    },
    {
     "name": "stdout",
     "output_type": "stream",
     "text": [
      "9/9 [==============================] - 5s 662ms/step - loss: 0.0450 - val_loss: 0.0722 - lr: 0.0010\n",
      "Epoch 9/10\n",
      "9/9 [==============================] - ETA: 0s - loss: 0.0390"
     ]
    },
    {
     "name": "stderr",
     "output_type": "stream",
     "text": [
      "WARNING:absl:Found untraced functions such as _jit_compiled_convolution_op, _jit_compiled_convolution_op, _jit_compiled_convolution_op, _jit_compiled_convolution_op, _jit_compiled_convolution_op while saving (showing 5 of 8). These functions will not be directly callable after loading.\n"
     ]
    },
    {
     "name": "stdout",
     "output_type": "stream",
     "text": [
      "INFO:tensorflow:Assets written to: path_to_checkpoint_filepath\\assets\n"
     ]
    },
    {
     "name": "stderr",
     "output_type": "stream",
     "text": [
      "INFO:tensorflow:Assets written to: path_to_checkpoint_filepath\\assets\n"
     ]
    },
    {
     "name": "stdout",
     "output_type": "stream",
     "text": [
      "9/9 [==============================] - 7s 890ms/step - loss: 0.0390 - val_loss: 0.0529 - lr: 0.0010\n",
      "Epoch 10/10\n",
      "8/9 [=========================>....] - ETA: 0s - loss: 0.0322"
     ]
    },
    {
     "name": "stderr",
     "output_type": "stream",
     "text": [
      "WARNING:absl:Found untraced functions such as _jit_compiled_convolution_op, _jit_compiled_convolution_op, _jit_compiled_convolution_op, _jit_compiled_convolution_op, _jit_compiled_convolution_op while saving (showing 5 of 8). These functions will not be directly callable after loading.\n"
     ]
    },
    {
     "name": "stdout",
     "output_type": "stream",
     "text": [
      "INFO:tensorflow:Assets written to: path_to_checkpoint_filepath\\assets\n"
     ]
    },
    {
     "name": "stderr",
     "output_type": "stream",
     "text": [
      "INFO:tensorflow:Assets written to: path_to_checkpoint_filepath\\assets\n"
     ]
    },
    {
     "name": "stdout",
     "output_type": "stream",
     "text": [
      "9/9 [==============================] - 6s 809ms/step - loss: 0.0348 - val_loss: 0.0450 - lr: 0.0010\n",
      "mae: tf.Tensor(121.27098, shape=(), dtype=float32)\n",
      "mse: tf.Tensor(72316.0, shape=(), dtype=float32)\n",
      "mape: tf.Tensor(3.1095977, shape=(), dtype=float32)\n"
     ]
    }
   ],
   "source": [
    "### Multi-Head CNN-LSTM Model\n",
    "\n",
    "input_layer = Input(shape=(LOOK_BACK, n_features)) \n",
    "head_list = []\n",
    "for i in range(0, n_features):\n",
    " conv_layer_head = Conv1D(filters=4, kernel_size=3, activation='relu')(input_layer)\n",
    " conv_layer_head_2 = Conv1D(filters=4, kernel_size=4, activation='relu')(conv_layer_head)\n",
    " conv_layer_flatten = Flatten()(conv_layer_head_2)\n",
    " head_list.append(conv_layer_flatten)\n",
    " \n",
    "concat_cnn = Concatenate(axis=1)(head_list)\n",
    "reshape = Reshape((head_list[0].shape[1], n_features))(concat_cnn)\n",
    "lstm = LSTM(100, activation='relu')(reshape)\n",
    "repeat = RepeatVector(FORECAST_RANGE)(lstm)\n",
    "lstm_2 = LSTM(100, activation='relu', return_sequences=True)(repeat)\n",
    "dropout = Dropout(0.05)(lstm_2)\n",
    "dense = Dense(n_features, activation='linear')(dropout)\n",
    "multi_head_cnn_lstm_model = Model(inputs=input_layer, outputs=dense)\n",
    "multi_head_cnn_lstm_model.compile(optimizer='adam', loss='mse')\n",
    "\n",
    "history = multi_head_cnn_lstm_model.fit(X_train, y_train, epochs=epochs, batch_size=batch_size, validation_split=validation,\n",
    "                            callbacks=[early_stopping_callback, checkpoint_callback, rlop_callback])\n",
    "\n",
    "y_hat = multi_head_cnn_lstm_model.predict(X_test, verbose=0)\n",
    "\n",
    "y_hat_inverse, y_test_inverse = inverse_transform(y_test, y_hat)\n",
    "\n",
    "evaluate_forecast(y_test_inverse, y_hat_inverse)"
   ]
  },
  {
   "cell_type": "code",
   "execution_count": 31,
   "metadata": {},
   "outputs": [
    {
     "data": {
      "image/png": "[encoded data removed]",
      "text/plain": [
       "<IPython.core.display.Image object>"
      ]
     },
     "execution_count": 31,
     "metadata": {},
     "output_type": "execute_result"
    }
   ],
   "source": [
    "plot_model(model=multi_head_cnn_lstm_model, show_shapes=True)"
   ]
  },
  {
   "attachments": {},
   "cell_type": "markdown",
   "metadata": {},
   "source": [
    "#### Evaluating the model"
   ]
  },
  {
   "cell_type": "code",
   "execution_count": 32,
   "metadata": {},
   "outputs": [
    {
     "data": {
      "text/plain": [
       "Text(0, 0.5, 'MAPE')"
      ]
     },
     "execution_count": 32,
     "metadata": {},
     "output_type": "execute_result"
    },
    {
     "data": {
      "image/png": "[encoded data removed]",
      "text/plain": [
       "<Figure size 432x288 with 1 Axes>"
      ]
     },
     "metadata": {},
     "output_type": "display_data"
    }
   ],
   "source": [
    "y_test_inverse_time_step = y_test_inverse.reshape(int(y_test_inverse.shape[0]/FORECAST_RANGE),\n",
    "                                                  FORECAST_RANGE, y_test_inverse.shape[-1])\n",
    "\n",
    "y_hat_inverse_time_step = y_hat_inverse.reshape(int(y_hat_inverse.shape[0]/FORECAST_RANGE),\n",
    "                                                FORECAST_RANGE, y_hat_inverse.shape[-1])\n",
    "\n",
    "### y_hat_inverse_time_step and y_test_inverse_time_step are both same dimension.\n",
    "\n",
    "time_step_list_y_hat = [[] for i in range(FORECAST_RANGE)]\n",
    "time_step_list_y_test = [[] for i in range(FORECAST_RANGE)]\n",
    "\n",
    "for i in range(0, y_hat_inverse_time_step.shape[0]):\n",
    "    for j in range(0, y_hat_inverse_time_step.shape[1]):\n",
    "        time_step_list_y_hat[j].append(list(y_hat_inverse_time_step[i][j]))\n",
    "        time_step_list_y_test[j].append(list(y_test_inverse_time_step[i][j]))\n",
    "\n",
    "y_hat_time_step = np.array(time_step_list_y_hat)\n",
    "y_hat_time_step = y_hat_time_step.reshape(y_hat_time_step.shape[0], -1)\n",
    "y_test_time_step = np.array(time_step_list_y_test)\n",
    "y_test_time_step = y_test_time_step.reshape(y_test_time_step.shape[0], -1)\n",
    "\n",
    "### plotting\n",
    "\n",
    "mape_ = tf.keras.losses.MeanAbsolutePercentageError()\n",
    "\n",
    "mape_list = []\n",
    "for i in range(0, FORECAST_RANGE):\n",
    "    mape = mape_(y_test_time_step[i], y_hat_time_step[i])\n",
    "    mape_list.append(mape)\n",
    "    \n",
    "plt.plot(range(0, FORECAST_RANGE), mape_list, marker='o')\n",
    "plt.xticks((range(0, FORECAST_RANGE)))\n",
    "plt.xlabel('Forecast Range')\n",
    "plt.ylabel('MAPE')"
   ]
  },
  {
   "cell_type": "code",
   "execution_count": 33,
   "metadata": {},
   "outputs": [],
   "source": [
    "mse_ = tf.keras.losses.MeanSquaredError()\n",
    "mae_ = tf.keras.losses.MeanAbsoluteError()\n",
    "mape_ = tf.keras.losses.MeanAbsolutePercentageError()"
   ]
  },
  {
   "cell_type": "code",
   "execution_count": 34,
   "metadata": {},
   "outputs": [
    {
     "name": "stdout",
     "output_type": "stream",
     "text": [
      " -> 0\n",
      "mae: tf.Tensor(47.67212, shape=(), dtype=float32)\n",
      "mse: tf.Tensor(2919.7524, shape=(), dtype=float32)\n",
      "mape: tf.Tensor(0.7046015, shape=(), dtype=float32)\n",
      " -> 1\n",
      "mae: tf.Tensor(65.39819, shape=(), dtype=float32)\n",
      "mse: tf.Tensor(4453.4644, shape=(), dtype=float32)\n",
      "mape: tf.Tensor(1.3166, shape=(), dtype=float32)\n",
      " -> 2\n",
      "mae: tf.Tensor(2.0509796, shape=(), dtype=float32)\n",
      "mse: tf.Tensor(5.320032, shape=(), dtype=float32)\n",
      "mape: tf.Tensor(0.36741546, shape=(), dtype=float32)\n",
      " -> 3\n",
      "mae: tf.Tensor(369.96265, shape=(), dtype=float32)\n",
      "mse: tf.Tensor(281885.44, shape=(), dtype=float32)\n",
      "mape: tf.Tensor(10.049774, shape=(), dtype=float32)\n"
     ]
    }
   ],
   "source": [
    "for i in range(0, n_features):\n",
    " print(f\" -> {i}\")\n",
    " mae = mae_(y_test_inverse[:,i],y_hat_inverse[:,i])\n",
    " print('mae:', mae)\n",
    " mse = mse_(y_test_inverse[:,i],y_hat_inverse[:,i])\n",
    " print('mse:', mse)\n",
    " mape = mape_(y_test_inverse[:,i],y_hat_inverse[:,i])\n",
    " print('mape:', mape)"
   ]
  },
  {
   "cell_type": "code",
   "execution_count": 35,
   "metadata": {},
   "outputs": [
    {
     "data": {
      "text/plain": [
       "(4, 2, 4)"
      ]
     },
     "execution_count": 35,
     "metadata": {},
     "output_type": "execute_result"
    }
   ],
   "source": [
    "y_test.shape"
   ]
  },
  {
   "cell_type": "code",
   "execution_count": 36,
   "metadata": {},
   "outputs": [
    {
     "data": {
      "text/plain": [
       "array([[[0.2627451 , 0.57837838, 0.42857143, 0.38941044],\n",
       "        [0.56862745, 0.78378378, 0.42857143, 0.4690199 ]],\n",
       "\n",
       "       [[0.56862745, 0.78378378, 0.42857143, 0.4690199 ],\n",
       "        [0.59607843, 0.84324324, 0.57142857, 0.39391664]],\n",
       "\n",
       "       [[0.59607843, 0.84324324, 0.57142857, 0.39391664],\n",
       "        [0.65882353, 0.86486486, 0.85714286, 0.33158092]],\n",
       "\n",
       "       [[0.65882353, 0.86486486, 0.85714286, 0.33158092],\n",
       "        [1.        , 1.        , 1.        , 1.        ]]])"
      ]
     },
     "execution_count": 36,
     "metadata": {},
     "output_type": "execute_result"
    }
   ],
   "source": [
    "y_test"
   ]
  },
  {
   "cell_type": "code",
   "execution_count": 37,
   "metadata": {},
   "outputs": [
    {
     "data": {
      "text/plain": [
       "array([[6654., 4922.,  556., 3074.],\n",
       "       [6732., 4960.,  556., 3286.],\n",
       "       [6732., 4960.,  556., 3286.],\n",
       "       [6739., 4971.,  557., 3086.],\n",
       "       [6739., 4971.,  557., 3086.],\n",
       "       [6755., 4975.,  559., 2920.],\n",
       "       [6755., 4975.,  559., 2920.],\n",
       "       [6842., 5000.,  560., 4700.]])"
      ]
     },
     "execution_count": 37,
     "metadata": {},
     "output_type": "execute_result"
    }
   ],
   "source": [
    "y_test_inverse"
   ]
  },
  {
   "cell_type": "code",
   "execution_count": 38,
   "metadata": {},
   "outputs": [
    {
     "data": {
      "text/plain": [
       "array([[[0.29028925, 0.29507086, 0.221712  , 0.27819255],\n",
       "        [0.41667178, 0.45696443, 0.3280547 , 0.38820276]],\n",
       "\n",
       "       [[0.35259026, 0.3599484 , 0.2747928 , 0.32060894],\n",
       "        [0.501146  , 0.55886364, 0.4082949 , 0.4377524 ]],\n",
       "\n",
       "       [[0.35118908, 0.3571976 , 0.27663606, 0.31553867],\n",
       "        [0.49960324, 0.55498564, 0.41193333, 0.43012705]],\n",
       "\n",
       "       [[0.44123366, 0.45137513, 0.35294357, 0.37438604],\n",
       "        [0.616574  , 0.6997256 , 0.52451015, 0.49259475]]], dtype=float32)"
      ]
     },
     "execution_count": 38,
     "metadata": {},
     "output_type": "execute_result"
    }
   ],
   "source": [
    "y_hat"
   ]
  },
  {
   "cell_type": "code",
   "execution_count": 39,
   "metadata": {},
   "outputs": [
    {
     "data": {
      "text/plain": [
       "array([[6661.024  , 4869.588  ,  554.552  , 2777.8267 ],\n",
       "       [6693.2515 , 4899.5386 ,  555.2964 , 3070.7842 ],\n",
       "       [6676.91   , 4881.591  ,  554.9236 , 2890.7817 ],\n",
       "       [6714.792  , 4918.3896 ,  555.85803, 3202.7346 ],\n",
       "       [6676.553  , 4881.0815 ,  554.93646, 2877.2795 ],\n",
       "       [6714.399  , 4917.6724 ,  555.88354, 3182.4282 ],\n",
       "       [6699.5146 , 4898.5044 ,  555.4706 , 3033.9902 ],\n",
       "       [6744.2266 , 4944.449  ,  556.6716 , 3348.7798 ]], dtype=float32)"
      ]
     },
     "execution_count": 39,
     "metadata": {},
     "output_type": "execute_result"
    }
   ],
   "source": [
    "y_hat_inverse"
   ]
  },
  {
   "cell_type": "code",
   "execution_count": 40,
   "metadata": {},
   "outputs": [
    {
     "data": {
      "text/plain": [
       "array([[[6661.024  , 4869.588  ,  554.552  , 2777.8267 ],\n",
       "        [6693.2515 , 4899.5386 ,  555.2964 , 3070.7842 ]],\n",
       "\n",
       "       [[6676.91   , 4881.591  ,  554.9236 , 2890.7817 ],\n",
       "        [6714.792  , 4918.3896 ,  555.85803, 3202.7346 ]],\n",
       "\n",
       "       [[6676.553  , 4881.0815 ,  554.93646, 2877.2795 ],\n",
       "        [6714.399  , 4917.6724 ,  555.88354, 3182.4282 ]],\n",
       "\n",
       "       [[6699.5146 , 4898.5044 ,  555.4706 , 3033.9902 ],\n",
       "        [6744.2266 , 4944.449  ,  556.6716 , 3348.7798 ]]], dtype=float32)"
      ]
     },
     "execution_count": 40,
     "metadata": {},
     "output_type": "execute_result"
    }
   ],
   "source": [
    "y_hat_inverse_time_step"
   ]
  },
  {
   "cell_type": "code",
   "execution_count": 41,
   "metadata": {},
   "outputs": [
    {
     "data": {
      "text/plain": [
       "array([6732., 4960.,  556., 3286.])"
      ]
     },
     "execution_count": 41,
     "metadata": {},
     "output_type": "execute_result"
    }
   ],
   "source": [
    "y_test_inverse_time_step[0][1]"
   ]
  },
  {
   "cell_type": "code",
   "execution_count": 42,
   "metadata": {},
   "outputs": [
    {
     "data": {
      "text/plain": [
       "(4, 2, 4)"
      ]
     },
     "execution_count": 42,
     "metadata": {},
     "output_type": "execute_result"
    }
   ],
   "source": [
    "y_test_inverse_time_step.shape"
   ]
  },
  {
   "cell_type": "code",
   "execution_count": 43,
   "metadata": {},
   "outputs": [
    {
     "data": {
      "text/plain": [
       "[[[6661.024, 4869.588, 554.552, 2777.8267],\n",
       "  [6676.91, 4881.591, 554.9236, 2890.7817],\n",
       "  [6676.553, 4881.0815, 554.93646, 2877.2795],\n",
       "  [6699.5146, 4898.5044, 555.4706, 3033.9902]],\n",
       " [[6693.2515, 4899.5386, 555.2964, 3070.7842],\n",
       "  [6714.792, 4918.3896, 555.85803, 3202.7346],\n",
       "  [6714.399, 4917.6724, 555.88354, 3182.4282],\n",
       "  [6744.2266, 4944.449, 556.6716, 3348.7798]]]"
      ]
     },
     "execution_count": 43,
     "metadata": {},
     "output_type": "execute_result"
    }
   ],
   "source": [
    "time_step_list_y_hat"
   ]
  },
  {
   "cell_type": "code",
   "execution_count": 44,
   "metadata": {},
   "outputs": [
    {
     "data": {
      "text/plain": [
       "array([[6661.024  , 4869.588  ,  554.552  , 2777.8267 , 6676.91   ,\n",
       "        4881.591  ,  554.9236 , 2890.7817 , 6676.553  , 4881.0815 ,\n",
       "         554.93646, 2877.2795 , 6699.5146 , 4898.5044 ,  555.4706 ,\n",
       "        3033.9902 ],\n",
       "       [6693.2515 , 4899.5386 ,  555.2964 , 3070.7842 , 6714.792  ,\n",
       "        4918.3896 ,  555.85803, 3202.7346 , 6714.399  , 4917.6724 ,\n",
       "         555.88354, 3182.4282 , 6744.2266 , 4944.449  ,  556.6716 ,\n",
       "        3348.7798 ]], dtype=float32)"
      ]
     },
     "execution_count": 44,
     "metadata": {},
     "output_type": "execute_result"
    }
   ],
   "source": [
    "y_hat_time_step"
   ]
  },
  {
   "cell_type": "code",
   "execution_count": 45,
   "metadata": {},
   "outputs": [
    {
     "data": {
      "text/plain": [
       "array([[[6661.024  , 4869.588  ,  554.552  , 2777.8267 ],\n",
       "        [6693.2515 , 4899.5386 ,  555.2964 , 3070.7842 ]],\n",
       "\n",
       "       [[6676.91   , 4881.591  ,  554.9236 , 2890.7817 ],\n",
       "        [6714.792  , 4918.3896 ,  555.85803, 3202.7346 ]],\n",
       "\n",
       "       [[6676.553  , 4881.0815 ,  554.93646, 2877.2795 ],\n",
       "        [6714.399  , 4917.6724 ,  555.88354, 3182.4282 ]],\n",
       "\n",
       "       [[6699.5146 , 4898.5044 ,  555.4706 , 3033.9902 ],\n",
       "        [6744.2266 , 4944.449  ,  556.6716 , 3348.7798 ]]], dtype=float32)"
      ]
     },
     "execution_count": 45,
     "metadata": {},
     "output_type": "execute_result"
    }
   ],
   "source": [
    "y_hat_inverse_time_step"
   ]
  },
  {
   "cell_type": "code",
   "execution_count": 46,
   "metadata": {},
   "outputs": [],
   "source": [
    "y_hat_predicted = y_hat_inverse_time_step.reshape(-1, y_hat_inverse_time_step.shape[-1])"
   ]
  },
  {
   "cell_type": "code",
   "execution_count": 47,
   "metadata": {},
   "outputs": [
    {
     "data": {
      "text/plain": [
       "array([[6661.024  , 4869.588  ,  554.552  , 2777.8267 ],\n",
       "       [6693.2515 , 4899.5386 ,  555.2964 , 3070.7842 ],\n",
       "       [6676.91   , 4881.591  ,  554.9236 , 2890.7817 ],\n",
       "       [6714.792  , 4918.3896 ,  555.85803, 3202.7346 ],\n",
       "       [6676.553  , 4881.0815 ,  554.93646, 2877.2795 ],\n",
       "       [6714.399  , 4917.6724 ,  555.88354, 3182.4282 ],\n",
       "       [6699.5146 , 4898.5044 ,  555.4706 , 3033.9902 ],\n",
       "       [6744.2266 , 4944.449  ,  556.6716 , 3348.7798 ]], dtype=float32)"
      ]
     },
     "execution_count": 47,
     "metadata": {},
     "output_type": "execute_result"
    }
   ],
   "source": [
    "y_hat_predicted"
   ]
  },
  {
   "cell_type": "code",
   "execution_count": 48,
   "metadata": {},
   "outputs": [],
   "source": [
    "y_hat_predicted = y_hat_predicted[::2]"
   ]
  },
  {
   "cell_type": "code",
   "execution_count": 49,
   "metadata": {},
   "outputs": [
    {
     "data": {
      "text/plain": [
       "array([[6661.024  , 4869.588  ,  554.552  , 2777.8267 ],\n",
       "       [6676.91   , 4881.591  ,  554.9236 , 2890.7817 ],\n",
       "       [6676.553  , 4881.0815 ,  554.93646, 2877.2795 ],\n",
       "       [6699.5146 , 4898.5044 ,  555.4706 , 3033.9902 ]], dtype=float32)"
      ]
     },
     "execution_count": 49,
     "metadata": {},
     "output_type": "execute_result"
    }
   ],
   "source": [
    "y_hat_predicted"
   ]
  },
  {
   "cell_type": "code",
   "execution_count": 50,
   "metadata": {},
   "outputs": [],
   "source": [
    "y_test_actual = y_test.reshape(-1, y_hat_inverse_time_step.shape[-1])\n",
    "y_test_actual = scaler.inverse_transform(y_test_actual)"
   ]
  },
  {
   "cell_type": "code",
   "execution_count": 51,
   "metadata": {},
   "outputs": [
    {
     "data": {
      "text/plain": [
       "array([[6654., 4922.,  556., 3074.],\n",
       "       [6732., 4960.,  556., 3286.],\n",
       "       [6732., 4960.,  556., 3286.],\n",
       "       [6739., 4971.,  557., 3086.],\n",
       "       [6739., 4971.,  557., 3086.],\n",
       "       [6755., 4975.,  559., 2920.],\n",
       "       [6755., 4975.,  559., 2920.],\n",
       "       [6842., 5000.,  560., 4700.]])"
      ]
     },
     "execution_count": 51,
     "metadata": {},
     "output_type": "execute_result"
    }
   ],
   "source": [
    "y_test_actual"
   ]
  },
  {
   "cell_type": "code",
   "execution_count": 52,
   "metadata": {},
   "outputs": [],
   "source": [
    "y_test_actual = y_test_actual[::2]"
   ]
  },
  {
   "cell_type": "code",
   "execution_count": 53,
   "metadata": {},
   "outputs": [
    {
     "data": {
      "text/plain": [
       "array([[6654., 4922.,  556., 3074.],\n",
       "       [6732., 4960.,  556., 3286.],\n",
       "       [6739., 4971.,  557., 3086.],\n",
       "       [6755., 4975.,  559., 2920.]])"
      ]
     },
     "execution_count": 53,
     "metadata": {},
     "output_type": "execute_result"
    }
   ],
   "source": [
    "y_test_actual"
   ]
  },
  {
   "cell_type": "code",
   "execution_count": 54,
   "metadata": {},
   "outputs": [
    {
     "data": {
      "image/png": "[encoded data removed]",
      "text/plain": [
       "<Figure size 720x360 with 1 Axes>"
      ]
     },
     "metadata": {},
     "output_type": "display_data"
    }
   ],
   "source": [
    "### plot between the actual_debt and predicted_debt \n",
    "\n",
    "x = ['sep 2021', 'oct 2021', 'nov 2021', 'dec 2021']\n",
    "\n",
    "plt.figure(figsize=(10, 5))\n",
    "plt.plot(x, y_test_actual[:, 0], label='actual')\n",
    "plt.plot(x, y_hat_predicted[:, 0], label='prediced')\n",
    "plt.xlabel(\"Month\")\n",
    "plt.ylabel(\"Debt\")\n",
    "plt.legend()\n",
    "plt.show()"
   ]
  },
  {
   "cell_type": "code",
   "execution_count": 55,
   "metadata": {},
   "outputs": [
    {
     "data": {
      "image/png": "[encoded data removed]",
      "text/plain": [
       "<Figure size 720x360 with 1 Axes>"
      ]
     },
     "metadata": {},
     "output_type": "display_data"
    }
   ],
   "source": [
    "### plot between the actual_rent and predicted_rent \n",
    "\n",
    "plt.figure(figsize=(10, 5))\n",
    "plt.plot(x, y_test_actual[:, 1], label='actual')\n",
    "plt.plot(x, y_hat_predicted[:, 1], label='prediced')\n",
    "plt.xlabel(\"Month\")\n",
    "plt.ylabel(\"Rent\")\n",
    "plt.legend()\n",
    "plt.show()"
   ]
  },
  {
   "cell_type": "code",
   "execution_count": 56,
   "metadata": {},
   "outputs": [
    {
     "data": {
      "image/png": "[encoded data removed]",
      "text/plain": [
       "<Figure size 720x360 with 1 Axes>"
      ]
     },
     "metadata": {},
     "output_type": "display_data"
    }
   ],
   "source": [
    "### plot between the actual_employee and predicted_employee \n",
    "\n",
    "plt.figure(figsize=(10, 5))\n",
    "plt.plot(x, y_test_actual[:, 2], label='actual')\n",
    "plt.plot(x, y_hat_predicted[:, 2], label='prediced')\n",
    "plt.xlabel(\"Employee_count\")\n",
    "plt.ylabel(\"Month\")\n",
    "plt.legend()\n",
    "plt.show()"
   ]
  },
  {
   "cell_type": "code",
   "execution_count": 57,
   "metadata": {},
   "outputs": [
    {
     "data": {
      "image/png": "[encoded data removed]",
      "text/plain": [
       "<Figure size 720x360 with 1 Axes>"
      ]
     },
     "metadata": {},
     "output_type": "display_data"
    }
   ],
   "source": [
    "### plot between the actual_marketing and predicted_marketing expense\n",
    "\n",
    "plt.figure(figsize=(10, 5))\n",
    "plt.plot(x, y_test_actual[:, 3], label='actual')\n",
    "plt.plot(x, y_hat_predicted[:, 3], label='prediced')\n",
    "plt.xlabel(\"Marketing\")\n",
    "plt.ylabel(\"Month\")\n",
    "plt.legend()\n",
    "plt.show()"
   ]
  },
  {
   "attachments": {},
   "cell_type": "markdown",
   "metadata": {},
   "source": [
    "#### Saving the model"
   ]
  },
  {
   "cell_type": "code",
   "execution_count": 58,
   "metadata": {},
   "outputs": [],
   "source": [
    "# multi_head_cnn_lstm_model.save('multi_head_cnn_lstm_model.h5')"
   ]
  },
  {
   "cell_type": "code",
   "execution_count": null,
   "metadata": {},
   "outputs": [],
   "source": []
  }
 ],
 "metadata": {
  "kernelspec": {
   "display_name": "Python 3",
   "language": "python",
   "name": "python3"
  },
  "language_info": {
   "codemirror_mode": {
    "name": "ipython",
    "version": 3
   },
   "file_extension": ".py",
   "mimetype": "text/x-python",
   "name": "python",
   "nbconvert_exporter": "python",
   "pygments_lexer": "ipython3",
   "version": "3.10.5"
  },
  "orig_nbformat": 4
 },
 "nbformat": 4,
 "nbformat_minor": 2
}
